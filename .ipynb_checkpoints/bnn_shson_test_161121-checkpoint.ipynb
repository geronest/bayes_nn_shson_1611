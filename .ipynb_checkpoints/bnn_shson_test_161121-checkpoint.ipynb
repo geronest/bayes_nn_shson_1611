{
 "cells": [
  {
   "cell_type": "code",
   "execution_count": 1,
   "metadata": {
    "collapsed": false
   },
   "outputs": [],
   "source": [
    "import tensorflow as tf\n",
    "import numpy as np\n",
    "import os, sys, time, datetime\n",
    "import matplotlib.pyplot as plt\n",
    "from bnn_shson import *\n",
    "import h5py\n",
    "\n",
    "%matplotlib inline\n"
   ]
  },
  {
   "cell_type": "code",
   "execution_count": 2,
   "metadata": {
    "collapsed": true
   },
   "outputs": [],
   "source": [
    "def num_to_onehot(nums, n_labels):\n",
    "    results = list()\n",
    "    for i in range(len(nums)):\n",
    "        res = np.zeros([n_labels])\n",
    "        res[nums[i]] = 1\n",
    "        results.append(res)\n",
    "    return np.asarray(results, dtype = 'float32')\n",
    "        "
   ]
  },
  {
   "cell_type": "code",
   "execution_count": 3,
   "metadata": {
    "collapsed": false
   },
   "outputs": [],
   "source": [
    "mnist = h5py.File('mnist.hdf5', 'r')\n",
    "\n",
    "x_train = mnist['train_data'][()]\n",
    "t_train = num_to_onehot(mnist['train_label'][()], 10)\n",
    "x_valid = mnist['valid_data'][()]\n",
    "t_valid = num_to_onehot(mnist['valid_label'][()], 10)\n",
    "x_test = mnist['test_data'][()]\n",
    "t_test = num_to_onehot(mnist['test_label'][()], 10)\n",
    "\n",
    "mnist.close()"
   ]
  },
  {
   "cell_type": "code",
   "execution_count": 5,
   "metadata": {
    "collapsed": true
   },
   "outputs": [],
   "source": [
    "batch_size = 200"
   ]
  },
  {
   "cell_type": "markdown",
   "metadata": {},
   "source": [
    "# Blundell version"
   ]
  },
  {
   "cell_type": "code",
   "execution_count": 15,
   "metadata": {
    "collapsed": true
   },
   "outputs": [],
   "source": [
    "try:\n",
    "    tf.reset_default_graph()\n",
    "    sess.close()\n",
    "except:\n",
    "    pass\n",
    "sess = tf.InteractiveSession(config=tf.ConfigProto(gpu_options=tf.GPUOptions(per_process_gpu_memory_fraction=0.2)))\n"
   ]
  },
  {
   "cell_type": "code",
   "execution_count": 16,
   "metadata": {
    "collapsed": false,
    "scrolled": true
   },
   "outputs": [
    {
     "name": "stdout",
     "output_type": "stream",
     "text": [
      "layer done\n",
      "layer done\n",
      "(10, ?, 10)\n",
      "WARNING:tensorflow:From <ipython-input-16-fdddc99cfddc>:5 in <module>.: __init__ (from tensorflow.python.training.summary_io) is deprecated and will be removed after 2016-11-30.\n",
      "Instructions for updating:\n",
      "Please switch to tf.summary.FileWriter. The interface and behavior is the same; this is just a rename.\n"
     ]
    },
    {
     "name": "stderr",
     "output_type": "stream",
     "text": [
      "WARNING:tensorflow:From <ipython-input-16-fdddc99cfddc>:5 in <module>.: __init__ (from tensorflow.python.training.summary_io) is deprecated and will be removed after 2016-11-30.\n",
      "Instructions for updating:\n",
      "Please switch to tf.summary.FileWriter. The interface and behavior is the same; this is just a rename.\n"
     ]
    },
    {
     "name": "stdout",
     "output_type": "stream",
     "text": [
      "WARNING:tensorflow:From <ipython-input-16-fdddc99cfddc>:6 in <module>.: __init__ (from tensorflow.python.training.summary_io) is deprecated and will be removed after 2016-11-30.\n",
      "Instructions for updating:\n",
      "Please switch to tf.summary.FileWriter. The interface and behavior is the same; this is just a rename.\n"
     ]
    },
    {
     "name": "stderr",
     "output_type": "stream",
     "text": [
      "WARNING:tensorflow:From <ipython-input-16-fdddc99cfddc>:6 in <module>.: __init__ (from tensorflow.python.training.summary_io) is deprecated and will be removed after 2016-11-30.\n",
      "Instructions for updating:\n",
      "Please switch to tf.summary.FileWriter. The interface and behavior is the same; this is just a rename.\n"
     ]
    }
   ],
   "source": [
    "#bnn = bnn_model(shape, mu = 0.1, rho = 0.1, n_samples = 10, outact = tf.sigmoid, seed = 1234, lr = 1e-8)\n",
    "bnn = bnn_model([784, 50, 10], size_data = len(t_train), size_batch = batch_size, \\\n",
    "                mu = 0.02, rho = -1, n_samples = 10, outact = tf.sigmoid, seed = 1234, \\\n",
    "                lr = 1e-3, kl_reweight = True)\n",
    "\n",
    "merged = tf.summary.merge_all()\n",
    "train_writer = tf.train.SummaryWriter('./train', sess.graph)\n",
    "test_writer = tf.train.SummaryWriter('./test')\n"
   ]
  },
  {
   "cell_type": "code",
   "execution_count": 17,
   "metadata": {
    "collapsed": false
   },
   "outputs": [
    {
     "name": "stdout",
     "output_type": "stream",
     "text": [
      "ep 0, step 0, training accuracy 0.095\n",
      "f : 159921.875, q : -392971.15625, p : -678301.3125, l : 16155.5917969\n",
      "ep 0, step 50, training accuracy 0.165\n",
      "f : 5238.25683594, q : -390455.78125, p : -680838.875, l : 5174.72265625\n",
      "ep 0, step 100, training accuracy 0.175\n",
      "f : 4745.26367188, q : -390300.875, p : -684231.5625, l : 4889.484375\n",
      "ep 0, step 150, training accuracy 0.295\n",
      "f : 4364.50341797, q : -391272.375, p : -687104.1875, l : 4405.93945312\n",
      "ep 0, step 200, training accuracy 0.455\n",
      "f : 3913.01977539, q : -389642.40625, p : -687257.875, l : 3920.68994141\n",
      "valid accuracy 0.5021\n",
      "ep 1, step 0, training accuracy 0.555\n",
      "f : 154567.34375, q : -389075.6875, p : -691189.3125, l : 3568.33447266\n",
      "ep 1, step 50, training accuracy 0.59\n",
      "f : 3180.22509766, q : -388189.03125, p : -689049.5625, l : 3047.17822266\n",
      "ep 1, step 100, training accuracy 0.58\n",
      "f : 3000.35620117, q : -388072.8125, p : -690827.5625, l : 3112.81347656\n",
      "ep 1, step 150, training accuracy 0.605\n",
      "f : 2984.14868164, q : -387709.78125, p : -692489.1875, l : 3099.90332031\n"
     ]
    },
    {
     "ename": "KeyboardInterrupt",
     "evalue": "",
     "output_type": "error",
     "traceback": [
      "\u001b[1;31m---------------------------------------------------------------------------\u001b[0m",
      "\u001b[1;31mKeyboardInterrupt\u001b[0m                         Traceback (most recent call last)",
      "\u001b[1;32m<ipython-input-17-eda5ff42f221>\u001b[0m in \u001b[0;36m<module>\u001b[1;34m()\u001b[0m\n\u001b[0;32m     22\u001b[0m \u001b[1;33m\u001b[0m\u001b[0m\n\u001b[0;32m     23\u001b[0m \u001b[1;33m\u001b[0m\u001b[0m\n\u001b[1;32m---> 24\u001b[1;33m         \u001b[0mv_f\u001b[0m\u001b[1;33m,\u001b[0m \u001b[0mv_q\u001b[0m\u001b[1;33m,\u001b[0m \u001b[0mv_p\u001b[0m\u001b[1;33m,\u001b[0m \u001b[0mv_l\u001b[0m \u001b[1;33m=\u001b[0m \u001b[0mbnn\u001b[0m\u001b[1;33m.\u001b[0m\u001b[0mget_fqpl\u001b[0m\u001b[1;33m(\u001b[0m\u001b[0mfeed\u001b[0m\u001b[1;33m)\u001b[0m\u001b[1;33m\u001b[0m\u001b[0m\n\u001b[0m\u001b[0;32m     25\u001b[0m         \u001b[0mfs\u001b[0m\u001b[1;33m.\u001b[0m\u001b[0mappend\u001b[0m\u001b[1;33m(\u001b[0m\u001b[0mv_f\u001b[0m\u001b[1;33m)\u001b[0m\u001b[1;33m,\u001b[0m \u001b[0mqs\u001b[0m\u001b[1;33m.\u001b[0m\u001b[0mappend\u001b[0m\u001b[1;33m(\u001b[0m\u001b[0mv_q\u001b[0m\u001b[1;33m)\u001b[0m\u001b[1;33m,\u001b[0m \u001b[0mps\u001b[0m\u001b[1;33m.\u001b[0m\u001b[0mappend\u001b[0m\u001b[1;33m(\u001b[0m\u001b[0mv_p\u001b[0m\u001b[1;33m)\u001b[0m\u001b[1;33m,\u001b[0m \u001b[0mls\u001b[0m\u001b[1;33m.\u001b[0m\u001b[0mappend\u001b[0m\u001b[1;33m(\u001b[0m\u001b[0mv_l\u001b[0m\u001b[1;33m)\u001b[0m\u001b[1;33m\u001b[0m\u001b[0m\n\u001b[0;32m     26\u001b[0m \u001b[1;33m\u001b[0m\u001b[0m\n",
      "\u001b[1;32m/root/bayes_nn_shson/bnn_shson.pyc\u001b[0m in \u001b[0;36mget_fqpl\u001b[1;34m(self, feed)\u001b[0m\n\u001b[0;32m    181\u001b[0m \u001b[1;33m\u001b[0m\u001b[0m\n\u001b[0;32m    182\u001b[0m     \u001b[1;32mdef\u001b[0m \u001b[0mget_fqpl\u001b[0m\u001b[1;33m(\u001b[0m\u001b[0mself\u001b[0m\u001b[1;33m,\u001b[0m \u001b[0mfeed\u001b[0m\u001b[1;33m)\u001b[0m\u001b[1;33m:\u001b[0m\u001b[1;33m\u001b[0m\u001b[0m\n\u001b[1;32m--> 183\u001b[1;33m         \u001b[1;32mreturn\u001b[0m \u001b[0mself\u001b[0m\u001b[1;33m.\u001b[0m\u001b[0mloss\u001b[0m\u001b[1;33m.\u001b[0m\u001b[0meval\u001b[0m\u001b[1;33m(\u001b[0m\u001b[0mfeed_dict\u001b[0m \u001b[1;33m=\u001b[0m \u001b[0mfeed\u001b[0m\u001b[1;33m)\u001b[0m\u001b[1;33m,\u001b[0m \u001b[0mself\u001b[0m\u001b[1;33m.\u001b[0m\u001b[0mlog_q_pos\u001b[0m\u001b[1;33m.\u001b[0m\u001b[0meval\u001b[0m\u001b[1;33m(\u001b[0m\u001b[0mfeed_dict\u001b[0m \u001b[1;33m=\u001b[0m \u001b[0mfeed\u001b[0m\u001b[1;33m)\u001b[0m\u001b[1;33m,\u001b[0m \u001b[0mself\u001b[0m\u001b[1;33m.\u001b[0m\u001b[0mlog_p_pri\u001b[0m\u001b[1;33m.\u001b[0m\u001b[0meval\u001b[0m\u001b[1;33m(\u001b[0m\u001b[0mfeed_dict\u001b[0m \u001b[1;33m=\u001b[0m \u001b[0mfeed\u001b[0m\u001b[1;33m)\u001b[0m\u001b[1;33m,\u001b[0m \u001b[0mself\u001b[0m\u001b[1;33m.\u001b[0m\u001b[0mloglike\u001b[0m\u001b[1;33m.\u001b[0m\u001b[0meval\u001b[0m\u001b[1;33m(\u001b[0m\u001b[0mfeed_dict\u001b[0m \u001b[1;33m=\u001b[0m \u001b[0mfeed\u001b[0m\u001b[1;33m)\u001b[0m\u001b[1;33m\u001b[0m\u001b[0m\n\u001b[0m\u001b[0;32m    184\u001b[0m \u001b[1;33m\u001b[0m\u001b[0m\n\u001b[0;32m    185\u001b[0m     \u001b[1;32mdef\u001b[0m \u001b[0mget_params\u001b[0m\u001b[1;33m(\u001b[0m\u001b[0mself\u001b[0m\u001b[1;33m)\u001b[0m\u001b[1;33m:\u001b[0m\u001b[1;33m\u001b[0m\u001b[0m\n",
      "\u001b[1;32m/usr/local/lib/python2.7/dist-packages/tensorflow/python/framework/ops.pyc\u001b[0m in \u001b[0;36meval\u001b[1;34m(self, feed_dict, session)\u001b[0m\n\u001b[0;32m    573\u001b[0m \u001b[1;33m\u001b[0m\u001b[0m\n\u001b[0;32m    574\u001b[0m     \"\"\"\n\u001b[1;32m--> 575\u001b[1;33m     \u001b[1;32mreturn\u001b[0m \u001b[0m_eval_using_default_session\u001b[0m\u001b[1;33m(\u001b[0m\u001b[0mself\u001b[0m\u001b[1;33m,\u001b[0m \u001b[0mfeed_dict\u001b[0m\u001b[1;33m,\u001b[0m \u001b[0mself\u001b[0m\u001b[1;33m.\u001b[0m\u001b[0mgraph\u001b[0m\u001b[1;33m,\u001b[0m \u001b[0msession\u001b[0m\u001b[1;33m)\u001b[0m\u001b[1;33m\u001b[0m\u001b[0m\n\u001b[0m\u001b[0;32m    576\u001b[0m \u001b[1;33m\u001b[0m\u001b[0m\n\u001b[0;32m    577\u001b[0m \u001b[1;33m\u001b[0m\u001b[0m\n",
      "\u001b[1;32m/usr/local/lib/python2.7/dist-packages/tensorflow/python/framework/ops.pyc\u001b[0m in \u001b[0;36m_eval_using_default_session\u001b[1;34m(tensors, feed_dict, graph, session)\u001b[0m\n\u001b[0;32m   3631\u001b[0m                        \u001b[1;34m\"the tensor's graph is different from the session's \"\u001b[0m\u001b[1;33m\u001b[0m\u001b[0m\n\u001b[0;32m   3632\u001b[0m                        \"graph.\")\n\u001b[1;32m-> 3633\u001b[1;33m   \u001b[1;32mreturn\u001b[0m \u001b[0msession\u001b[0m\u001b[1;33m.\u001b[0m\u001b[0mrun\u001b[0m\u001b[1;33m(\u001b[0m\u001b[0mtensors\u001b[0m\u001b[1;33m,\u001b[0m \u001b[0mfeed_dict\u001b[0m\u001b[1;33m)\u001b[0m\u001b[1;33m\u001b[0m\u001b[0m\n\u001b[0m\u001b[0;32m   3634\u001b[0m \u001b[1;33m\u001b[0m\u001b[0m\n\u001b[0;32m   3635\u001b[0m \u001b[1;33m\u001b[0m\u001b[0m\n",
      "\u001b[1;32m/usr/local/lib/python2.7/dist-packages/tensorflow/python/client/session.pyc\u001b[0m in \u001b[0;36mrun\u001b[1;34m(self, fetches, feed_dict, options, run_metadata)\u001b[0m\n\u001b[0;32m    764\u001b[0m     \u001b[1;32mtry\u001b[0m\u001b[1;33m:\u001b[0m\u001b[1;33m\u001b[0m\u001b[0m\n\u001b[0;32m    765\u001b[0m       result = self._run(None, fetches, feed_dict, options_ptr,\n\u001b[1;32m--> 766\u001b[1;33m                          run_metadata_ptr)\n\u001b[0m\u001b[0;32m    767\u001b[0m       \u001b[1;32mif\u001b[0m \u001b[0mrun_metadata\u001b[0m\u001b[1;33m:\u001b[0m\u001b[1;33m\u001b[0m\u001b[0m\n\u001b[0;32m    768\u001b[0m         \u001b[0mproto_data\u001b[0m \u001b[1;33m=\u001b[0m \u001b[0mtf_session\u001b[0m\u001b[1;33m.\u001b[0m\u001b[0mTF_GetBuffer\u001b[0m\u001b[1;33m(\u001b[0m\u001b[0mrun_metadata_ptr\u001b[0m\u001b[1;33m)\u001b[0m\u001b[1;33m\u001b[0m\u001b[0m\n",
      "\u001b[1;32m/usr/local/lib/python2.7/dist-packages/tensorflow/python/client/session.pyc\u001b[0m in \u001b[0;36m_run\u001b[1;34m(self, handle, fetches, feed_dict, options, run_metadata)\u001b[0m\n\u001b[0;32m    962\u001b[0m     \u001b[1;32mif\u001b[0m \u001b[0mfinal_fetches\u001b[0m \u001b[1;32mor\u001b[0m \u001b[0mfinal_targets\u001b[0m\u001b[1;33m:\u001b[0m\u001b[1;33m\u001b[0m\u001b[0m\n\u001b[0;32m    963\u001b[0m       results = self._do_run(handle, final_targets, final_fetches,\n\u001b[1;32m--> 964\u001b[1;33m                              feed_dict_string, options, run_metadata)\n\u001b[0m\u001b[0;32m    965\u001b[0m     \u001b[1;32melse\u001b[0m\u001b[1;33m:\u001b[0m\u001b[1;33m\u001b[0m\u001b[0m\n\u001b[0;32m    966\u001b[0m       \u001b[0mresults\u001b[0m \u001b[1;33m=\u001b[0m \u001b[1;33m[\u001b[0m\u001b[1;33m]\u001b[0m\u001b[1;33m\u001b[0m\u001b[0m\n",
      "\u001b[1;32m/usr/local/lib/python2.7/dist-packages/tensorflow/python/client/session.pyc\u001b[0m in \u001b[0;36m_do_run\u001b[1;34m(self, handle, target_list, fetch_list, feed_dict, options, run_metadata)\u001b[0m\n\u001b[0;32m   1012\u001b[0m     \u001b[1;32mif\u001b[0m \u001b[0mhandle\u001b[0m \u001b[1;32mis\u001b[0m \u001b[0mNone\u001b[0m\u001b[1;33m:\u001b[0m\u001b[1;33m\u001b[0m\u001b[0m\n\u001b[0;32m   1013\u001b[0m       return self._do_call(_run_fn, self._session, feed_dict, fetch_list,\n\u001b[1;32m-> 1014\u001b[1;33m                            target_list, options, run_metadata)\n\u001b[0m\u001b[0;32m   1015\u001b[0m     \u001b[1;32melse\u001b[0m\u001b[1;33m:\u001b[0m\u001b[1;33m\u001b[0m\u001b[0m\n\u001b[0;32m   1016\u001b[0m       return self._do_call(_prun_fn, self._session, handle, feed_dict,\n",
      "\u001b[1;32m/usr/local/lib/python2.7/dist-packages/tensorflow/python/client/session.pyc\u001b[0m in \u001b[0;36m_do_call\u001b[1;34m(self, fn, *args)\u001b[0m\n\u001b[0;32m   1019\u001b[0m   \u001b[1;32mdef\u001b[0m \u001b[0m_do_call\u001b[0m\u001b[1;33m(\u001b[0m\u001b[0mself\u001b[0m\u001b[1;33m,\u001b[0m \u001b[0mfn\u001b[0m\u001b[1;33m,\u001b[0m \u001b[1;33m*\u001b[0m\u001b[0margs\u001b[0m\u001b[1;33m)\u001b[0m\u001b[1;33m:\u001b[0m\u001b[1;33m\u001b[0m\u001b[0m\n\u001b[0;32m   1020\u001b[0m     \u001b[1;32mtry\u001b[0m\u001b[1;33m:\u001b[0m\u001b[1;33m\u001b[0m\u001b[0m\n\u001b[1;32m-> 1021\u001b[1;33m       \u001b[1;32mreturn\u001b[0m \u001b[0mfn\u001b[0m\u001b[1;33m(\u001b[0m\u001b[1;33m*\u001b[0m\u001b[0margs\u001b[0m\u001b[1;33m)\u001b[0m\u001b[1;33m\u001b[0m\u001b[0m\n\u001b[0m\u001b[0;32m   1022\u001b[0m     \u001b[1;32mexcept\u001b[0m \u001b[0merrors\u001b[0m\u001b[1;33m.\u001b[0m\u001b[0mOpError\u001b[0m \u001b[1;32mas\u001b[0m \u001b[0me\u001b[0m\u001b[1;33m:\u001b[0m\u001b[1;33m\u001b[0m\u001b[0m\n\u001b[0;32m   1023\u001b[0m       \u001b[0mmessage\u001b[0m \u001b[1;33m=\u001b[0m \u001b[0mcompat\u001b[0m\u001b[1;33m.\u001b[0m\u001b[0mas_text\u001b[0m\u001b[1;33m(\u001b[0m\u001b[0me\u001b[0m\u001b[1;33m.\u001b[0m\u001b[0mmessage\u001b[0m\u001b[1;33m)\u001b[0m\u001b[1;33m\u001b[0m\u001b[0m\n",
      "\u001b[1;32m/usr/local/lib/python2.7/dist-packages/tensorflow/python/client/session.pyc\u001b[0m in \u001b[0;36m_run_fn\u001b[1;34m(session, feed_dict, fetch_list, target_list, options, run_metadata)\u001b[0m\n\u001b[0;32m   1001\u001b[0m         return tf_session.TF_Run(session, options,\n\u001b[0;32m   1002\u001b[0m                                  \u001b[0mfeed_dict\u001b[0m\u001b[1;33m,\u001b[0m \u001b[0mfetch_list\u001b[0m\u001b[1;33m,\u001b[0m \u001b[0mtarget_list\u001b[0m\u001b[1;33m,\u001b[0m\u001b[1;33m\u001b[0m\u001b[0m\n\u001b[1;32m-> 1003\u001b[1;33m                                  status, run_metadata)\n\u001b[0m\u001b[0;32m   1004\u001b[0m \u001b[1;33m\u001b[0m\u001b[0m\n\u001b[0;32m   1005\u001b[0m     \u001b[1;32mdef\u001b[0m \u001b[0m_prun_fn\u001b[0m\u001b[1;33m(\u001b[0m\u001b[0msession\u001b[0m\u001b[1;33m,\u001b[0m \u001b[0mhandle\u001b[0m\u001b[1;33m,\u001b[0m \u001b[0mfeed_dict\u001b[0m\u001b[1;33m,\u001b[0m \u001b[0mfetch_list\u001b[0m\u001b[1;33m)\u001b[0m\u001b[1;33m:\u001b[0m\u001b[1;33m\u001b[0m\u001b[0m\n",
      "\u001b[1;31mKeyboardInterrupt\u001b[0m: "
     ]
    }
   ],
   "source": [
    "#sess.run(tf.initialize_all_variables())\n",
    "tf.global_variables_initializer().run()\n",
    "\n",
    "n_epochs = 100\n",
    "n_batches = len(t_train) / batch_size\n",
    "\n",
    "fs = list()\n",
    "qs = list()\n",
    "ps = list()\n",
    "ls = list()\n",
    "taccs = list()\n",
    "vaccs = list()\n",
    "for ep in range(n_epochs):\n",
    "    bnn.reset_klrw()\n",
    "    \n",
    "    for i in range(n_batches):\n",
    "        bnn.decay_klrw()\n",
    "#         if (i+1) % 20 == 0:\n",
    "#             print(\"klrw index : %g\"%(bnn.get_klrw()))\n",
    "        \n",
    "        feed = {bnn.x: x_train[i*batch_size:(i+1)*batch_size], \\\n",
    "                bnn.t: t_train[i*batch_size:(i+1)*batch_size]}\n",
    "\n",
    "        \n",
    "        v_f, v_q, v_p, v_l = bnn.get_fqpl(feed)\n",
    "        fs.append(v_f), qs.append(v_q), ps.append(v_p), ls.append(v_l)\n",
    "        \n",
    "#         if i > 50 and np.mean(fs[-50:-25]) < np.mean(fs[-25:]):\n",
    "#             bnn.decay_lr()\n",
    "#             print (\"--- learning rate decayed : %g ---\"%(bnn.get_lr()))\n",
    "        \n",
    "            \n",
    "\n",
    "        if i%50 == 0:\n",
    "            train_accuracy = bnn.validate(feed)\n",
    "\n",
    "            print(\"ep %d, step %d, training accuracy %g\"%(ep, i, train_accuracy))\n",
    "            print(\"f : {}, q : {}, p : {}, l : {}\".format(v_f, v_q, v_p, v_l))\n",
    "            #print v_q - v_p + v_l\n",
    "\n",
    "        bnn.train(feed)\n",
    "    \n",
    "    vacc = bnn.validate({bnn.x: x_valid, bnn.t: t_valid})\n",
    "    vaccs.append(vacc)\n",
    "    taccs.append(train_accuracy)\n",
    "    \n",
    "    summary = sess.run(merged, feed_dict ={bnn.x: x_valid, bnn.t: t_valid})\n",
    "    test_writer.add_summary(summary, ep)\n",
    "    \n",
    "    print(\"valid accuracy %g\"%vacc)\n",
    "    \n",
    "    if ep > 10 and np.mean(vaccs[-10:-5]) < np.mean(vaccs[-5:]):\n",
    "        bnn.decay_lr()\n",
    "        print (\"--- learning rate decayed : %g ---\"%(bnn.get_lr()))\n",
    "    \n",
    "\n"
   ]
  },
  {
   "cell_type": "code",
   "execution_count": 8,
   "metadata": {
    "collapsed": false
   },
   "outputs": [
    {
     "data": {
      "image/png": "[encoded data removed]",
      "text/plain": [
       "<matplotlib.figure.Figure at 0x7f449a7b5a50>"
      ]
     },
     "metadata": {},
     "output_type": "display_data"
    }
   ],
   "source": [
    "coeff_klrw = 1 / n_batches\n",
    "\n",
    "plt.plot(fs, 'r')\n",
    "plt.plot(qs*coeff_klrw, 'b')\n",
    "plt.plot(ps*coeff_klrw, 'g')\n",
    "plt.plot(ls, 'k')\n",
    "\n",
    "# plt.plot(fs[0:22], 'r')\n",
    "# plt.plot(qs[0:22], 'b')\n",
    "# plt.plot(ps[0:22], 'g')\n",
    "# plt.plot(ls[0:22], 'k')\n",
    "\n",
    "\n",
    "plt.legend(['f', 'q', 'p', 'l'])\n",
    "plt.show()"
   ]
  },
  {
   "cell_type": "code",
   "execution_count": 9,
   "metadata": {
    "collapsed": false
   },
   "outputs": [
    {
     "data": {
      "image/png": "[encoded data removed]",
      "text/plain": [
       "<matplotlib.figure.Figure at 0x7f449a7978d0>"
      ]
     },
     "metadata": {},
     "output_type": "display_data"
    }
   ],
   "source": [
    "plt.plot(taccs, 'b')\n",
    "plt.plot(vaccs, 'r')\n",
    "\n",
    "plt.legend(['train_acc', 'valid_acc'])\n",
    "plt.show()"
   ]
  },
  {
   "cell_type": "markdown",
   "metadata": {},
   "source": [
    "# Online version"
   ]
  },
  {
   "cell_type": "code",
   "execution_count": 13,
   "metadata": {
    "collapsed": true
   },
   "outputs": [],
   "source": [
    "try:\n",
    "    tf.reset_default_graph()\n",
    "    sess.close()\n",
    "except:\n",
    "    pass\n",
    "sess = tf.InteractiveSession(config=tf.ConfigProto(gpu_options=tf.GPUOptions(per_process_gpu_memory_fraction=0.2)))\n"
   ]
  },
  {
   "cell_type": "code",
   "execution_count": 6,
   "metadata": {
    "collapsed": false
   },
   "outputs": [
    {
     "name": "stdout",
     "output_type": "stream",
     "text": [
      "layer done\n",
      "layer done\n",
      "(10, ?, 10)\n",
      "WARNING:tensorflow:From <ipython-input-6-d7627702a16d>:5 in <module>.: __init__ (from tensorflow.python.training.summary_io) is deprecated and will be removed after 2016-11-30.\n",
      "Instructions for updating:\n",
      "Please switch to tf.summary.FileWriter. The interface and behavior is the same; this is just a rename.\n"
     ]
    },
    {
     "name": "stderr",
     "output_type": "stream",
     "text": [
      "WARNING:tensorflow:From <ipython-input-6-d7627702a16d>:5 in <module>.: __init__ (from tensorflow.python.training.summary_io) is deprecated and will be removed after 2016-11-30.\n",
      "Instructions for updating:\n",
      "Please switch to tf.summary.FileWriter. The interface and behavior is the same; this is just a rename.\n"
     ]
    },
    {
     "name": "stdout",
     "output_type": "stream",
     "text": [
      "WARNING:tensorflow:From <ipython-input-6-d7627702a16d>:6 in <module>.: __init__ (from tensorflow.python.training.summary_io) is deprecated and will be removed after 2016-11-30.\n",
      "Instructions for updating:\n",
      "Please switch to tf.summary.FileWriter. The interface and behavior is the same; this is just a rename.\n"
     ]
    },
    {
     "name": "stderr",
     "output_type": "stream",
     "text": [
      "WARNING:tensorflow:From <ipython-input-6-d7627702a16d>:6 in <module>.: __init__ (from tensorflow.python.training.summary_io) is deprecated and will be removed after 2016-11-30.\n",
      "Instructions for updating:\n",
      "Please switch to tf.summary.FileWriter. The interface and behavior is the same; this is just a rename.\n"
     ]
    }
   ],
   "source": [
    "#bnn = bnn_model(shape, mu = 0.1, rho = 0.1, n_samples = 10, outact = tf.sigmoid, seed = 1234, lr = 1e-8)\n",
    "bnn = bnn_model([784, 50, 10], size_data = len(t_train), size_batch = batch_size, \\\n",
    "                mu = 0.02, rho = -2, n_samples = 10, outact = tf.sigmoid, seed = 1234, \\\n",
    "                lr = 1e-3, kl_reweight = False)\n",
    "\n",
    "merged = tf.summary.merge_all()\n",
    "train_writer = tf.train.SummaryWriter('./train', sess.graph)\n",
    "test_writer = tf.train.SummaryWriter('./test')"
   ]
  },
  {
   "cell_type": "code",
   "execution_count": 8,
   "metadata": {
    "collapsed": false
   },
   "outputs": [
    {
     "name": "stdout",
     "output_type": "stream",
     "text": [
      "batch 0, ep 0, training accuracy 0.075\n",
      "f : 400892.09375, q : -336574.5, p : -715021.3125, l : 22136.9375\n",
      "batch 0, ep 50, training accuracy 0.155\n",
      "f : 333195.8125, q : -336508.5, p : -660968.1875, l : 8510.40039062\n",
      "batch 0, ep 100, training accuracy 0.11\n",
      "f : 284433.75, q : -332134.71875, p : -610579.1875, l : 6409.13525391\n",
      "batch 0, ep 150, training accuracy 0.145\n",
      "f : 251310.9375, q : -325834.75, p : -571028.375, l : 5379.83886719\n",
      "valid accuracy 0.1394\n",
      "batch 1, ep 0, training accuracy 0.105\n",
      "f : 227427.390625, q : -315882.75, p : -537128.1875, l : 5501.41113281\n",
      "batch 1, ep 50, training accuracy 0.105\n",
      "f : 211032.375, q : -304750.90625, p : -510050.28125, l : 5476.65136719\n",
      "batch 1, ep 100, training accuracy 0.125\n",
      "f : 198587.765625, q : -294591.75, p : -488568.71875, l : 5367.25878906\n",
      "batch 1, ep 150, training accuracy 0.14\n",
      "f : 189555.265625, q : -284768.34375, p : -467751.1875, l : 5377.19873047\n",
      "valid accuracy 0.1157\n",
      "batch 2, ep 0, training accuracy 0.15\n",
      "f : 182960.921875, q : -275596.15625, p : -453571.4375, l : 5494.36621094\n",
      "batch 2, ep 50, training accuracy 0.105\n",
      "f : 177683.8125, q : -267294.96875, p : -439095.46875, l : 5241.71777344\n",
      "batch 2, ep 100, training accuracy 0.145\n",
      "f : 172729.328125, q : -260012.484375, p : -426947.6875, l : 5560.23974609\n",
      "batch 2, ep 150, training accuracy 0.11\n",
      "f : 168582.3125, q : -252605.09375, p : -416335.1875, l : 5335.56933594\n",
      "valid accuracy 0.1098\n",
      "batch 3, ep 0, training accuracy 0.13\n",
      "f : 164619.890625, q : -248126.859375, p : -407512.25, l : 5665.29980469\n",
      "batch 3, ep 50, training accuracy 0.095\n",
      "f : 160909.0, q : -243409.328125, p : -398694.75, l : 5373.52246094\n",
      "batch 3, ep 100, training accuracy 0.155\n",
      "f : 158153.375, q : -239154.5625, p : -390837.65625, l : 5493.08105469\n",
      "batch 3, ep 150, training accuracy 0.105\n",
      "f : 155243.53125, q : -234837.84375, p : -384488.90625, l : 5318.60058594\n",
      "valid accuracy 0.1257\n",
      "batch 4, ep 0, training accuracy 0.1\n",
      "f : 153507.421875, q : -230645.96875, p : -378476.84375, l : 5419.09570312\n",
      "batch 4, ep 50, training accuracy 0.16\n",
      "f : 150464.265625, q : -228226.328125, p : -372920.625, l : 5222.17236328\n",
      "batch 4, ep 100, training accuracy 0.12\n",
      "f : 148435.859375, q : -225821.46875, p : -368698.625, l : 5454.75341797\n",
      "batch 4, ep 150, training accuracy 0.135\n",
      "f : 147358.21875, q : -223621.859375, p : -364137.71875, l : 5153.11132812\n",
      "valid accuracy 0.1346\n",
      "batch 5, ep 0, training accuracy 0.125\n",
      "f : 145701.796875, q : -220724.359375, p : -360689.5, l : 5257.45947266\n",
      "batch 5, ep 50, training accuracy 0.12\n",
      "f : 144766.484375, q : -217956.9375, p : -357638.84375, l : 5316.39550781\n",
      "batch 5, ep 100, training accuracy 0.165\n",
      "f : 142932.84375, q : -217266.21875, p : -353583.96875, l : 5486.75097656\n",
      "batch 5, ep 150, training accuracy 0.13\n",
      "f : 141869.578125, q : -214206.28125, p : -351583.90625, l : 5144.15380859\n",
      "valid accuracy 0.1072\n",
      "batch 6, ep 0, training accuracy 0.1\n",
      "f : 140510.359375, q : -212115.734375, p : -348200.03125, l : 5221.04248047\n",
      "batch 6, ep 50, training accuracy 0.145\n",
      "f : 139652.125, q : -211787.90625, p : -344164.125, l : 5532.86230469\n",
      "batch 6, ep 100, training accuracy 0.12\n",
      "f : 138344.046875, q : -210114.09375, p : -344742.21875, l : 5289.80566406\n",
      "batch 6, ep 150, training accuracy 0.115\n",
      "f : 138073.984375, q : -209292.65625, p : -340395.1875, l : 5375.87207031\n",
      "valid accuracy 0.0961\n",
      "batch 7, ep 0, training accuracy 0.135\n",
      "f : 136100.15625, q : -206913.703125, p : -338990.6875, l : 5302.046875\n",
      "batch 7, ep 50, training accuracy 0.085\n",
      "f : 135915.765625, q : -206476.40625, p : -336755.6875, l : 5204.48535156\n",
      "batch 7, ep 100, training accuracy 0.115\n",
      "f : 135056.9375, q : -205690.921875, p : -335729.3125, l : 5237.97949219\n",
      "batch 7, ep 150, training accuracy 0.12\n",
      "f : 133877.328125, q : -204651.6875, p : -333647.875, l : 5250.29492188\n",
      "valid accuracy 0.1386\n",
      "batch 8, ep 0, training accuracy 0.17\n",
      "f : 133620.203125, q : -203682.921875, p : -332354.125, l : 5642.68554688\n",
      "batch 8, ep 50, training accuracy 0.145\n",
      "f : 133104.953125, q : -203517.703125, p : -330775.9375, l : 5219.16308594\n",
      "batch 8, ep 100, training accuracy 0.1\n",
      "f : 132373.0, q : -202306.96875, p : -330035.5, l : 5198.39453125\n",
      "batch 8, ep 150, training accuracy 0.12\n",
      "f : 131939.234375, q : -202046.625, p : -329336.125, l : 5317.61621094\n",
      "valid accuracy 0.1083\n",
      "batch 9, ep 0, training accuracy 0.115\n",
      "f : 131930.1875, q : -200828.34375, p : -327537.8125, l : 5159.21875\n",
      "batch 9, ep 50, training accuracy 0.16\n",
      "f : 130912.390625, q : -199958.28125, p : -327082.59375, l : 5205.85302734\n",
      "batch 9, ep 100, training accuracy 0.165\n",
      "f : 130566.851562, q : -199529.796875, p : -325014.84375, l : 5275.06982422\n",
      "batch 9, ep 150, training accuracy 0.12\n",
      "f : 129975.6875, q : -199329.953125, p : -324256.0, l : 5248.97753906\n",
      "valid accuracy 0.1176\n",
      "batch 10, ep 0, training accuracy 0.16\n",
      "f : 129754.765625, q : -199596.609375, p : -323475.78125, l : 5108.80859375\n",
      "batch 10, ep 50, training accuracy 0.24\n",
      "f : 129367.054688, q : -199092.171875, p : -322313.1875, l : 5040.85644531\n",
      "batch 10, ep 100, training accuracy 0.23\n",
      "f : 129041.09375, q : -198336.859375, p : -322020.9375, l : 5105.21875\n",
      "batch 10, ep 150, training accuracy 0.23\n",
      "f : 128069.351562, q : -198296.5625, p : -321536.125, l : 5058.27441406\n",
      "valid accuracy 0.2443\n",
      "batch 11, ep 0, training accuracy 0.19\n",
      "f : 128338.304688, q : -198033.1875, p : -320882.78125, l : 5236.2109375\n",
      "batch 11, ep 50, training accuracy 0.215\n",
      "f : 127700.265625, q : -196472.109375, p : -319928.78125, l : 5003.64648438\n",
      "batch 11, ep 100, training accuracy 0.18\n",
      "f : 127544.429688, q : -196714.578125, p : -319055.90625, l : 5033.59033203\n",
      "batch 11, ep 150, training accuracy 0.195\n",
      "f : 127257.9375, q : -196923.328125, p : -319224.375, l : 5122.3046875\n",
      "valid accuracy 0.1603\n",
      "batch 12, ep 0, training accuracy 0.155\n",
      "f : 127658.484375, q : -196142.296875, p : -317758.03125, l : 5078.53320312\n",
      "batch 12, ep 50, training accuracy 0.245\n",
      "f : 126459.25, q : -195533.015625, p : -318407.0, l : 5099.74658203\n",
      "batch 12, ep 100, training accuracy 0.335\n",
      "f : 125942.546875, q : -195891.21875, p : -317830.59375, l : 4912.203125\n",
      "batch 12, ep 150, training accuracy 0.205\n",
      "f : 125847.101562, q : -196490.328125, p : -317192.84375, l : 5036.12109375\n",
      "valid accuracy 0.1968\n",
      "batch 13, ep 0, training accuracy 0.265\n",
      "f : 126049.75, q : -195955.3125, p : -315851.5, l : 4971.19726562\n",
      "batch 13, ep 50, training accuracy 0.28\n",
      "f : 125938.632812, q : -196032.890625, p : -317400.09375, l : 4817.52246094\n",
      "batch 13, ep 100, training accuracy 0.305\n",
      "f : 126057.375, q : -196046.890625, p : -316165.4375, l : 4760.59912109\n",
      "batch 13, ep 150, training accuracy 0.29\n",
      "f : 125609.75, q : -195722.171875, p : -317485.3125, l : 4939.60644531\n",
      "valid accuracy 0.2781\n",
      "batch 14, ep 0, training accuracy 0.205\n",
      "f : 125827.75, q : -195709.546875, p : -317014.71875, l : 4715.41113281\n",
      "batch 14, ep 50, training accuracy 0.305\n",
      "f : 125812.703125, q : -195917.203125, p : -316950.25, l : 4705.2265625\n",
      "batch 14, ep 100, training accuracy 0.22\n",
      "f : 125987.789062, q : -195496.125, p : -315902.09375, l : 4887.26123047\n",
      "batch 14, ep 150, training accuracy 0.24\n",
      "f : 126002.679688, q : -196103.859375, p : -315455.59375, l : 4681.47949219\n",
      "valid accuracy 0.1914\n",
      "batch 15, ep 0, training accuracy 0.205\n",
      "f : 125923.09375, q : -195851.765625, p : -316275.3125, l : 4932.07617188\n",
      "batch 15, ep 50, training accuracy 0.28\n",
      "f : 125472.328125, q : -194590.15625, p : -315916.21875, l : 4921.44287109\n",
      "batch 15, ep 100, training accuracy 0.275\n",
      "f : 125603.59375, q : -195451.75, p : -316049.15625, l : 4862.35253906\n",
      "batch 15, ep 150, training accuracy 0.25\n",
      "f : 124793.5, q : -195303.125, p : -315781.375, l : 4712.89501953\n",
      "valid accuracy 0.2065\n",
      "batch 16, ep 0, training accuracy 0.2\n",
      "f : 125174.289062, q : -195304.34375, p : -316482.84375, l : 5072.07128906\n",
      "batch 16, ep 50, training accuracy 0.215\n",
      "f : 125630.03125, q : -194917.046875, p : -315171.8125, l : 4896.90478516\n",
      "batch 16, ep 100, training accuracy 0.225\n",
      "f : 124943.367188, q : -195489.890625, p : -315228.6875, l : 4899.80273438\n",
      "batch 16, ep 150, training accuracy 0.245\n",
      "f : 125113.726562, q : -195051.578125, p : -314921.6875, l : 4737.78125\n",
      "valid accuracy 0.2372\n",
      "batch 17, ep 0, training accuracy 0.195\n",
      "f : 125109.640625, q : -195370.4375, p : -314614.0625, l : 4891.87304688\n",
      "batch 17, ep 50, training accuracy 0.23\n",
      "f : 124849.40625, q : -194380.578125, p : -314445.28125, l : 4659.85058594\n",
      "batch 17, ep 100, training accuracy 0.195\n",
      "f : 124615.304688, q : -194493.5625, p : -314449.0625, l : 4714.82958984\n",
      "batch 17, ep 150, training accuracy 0.28\n",
      "f : 124346.539062, q : -194755.90625, p : -315240.375, l : 4669.09960938\n",
      "valid accuracy 0.2068\n",
      "batch 18, ep 0, training accuracy 0.18\n",
      "f : 124302.296875, q : -195644.84375, p : -313573.71875, l : 5101.68945312\n",
      "batch 18, ep 50, training accuracy 0.2\n",
      "f : 124282.6875, q : -195229.609375, p : -315406.21875, l : 4854.53759766\n",
      "batch 18, ep 100, training accuracy 0.225\n",
      "f : 123648.898438, q : -194355.109375, p : -313222.4375, l : 4859.54492188\n",
      "batch 18, ep 150, training accuracy 0.235\n",
      "f : 123618.046875, q : -194395.21875, p : -314047.5625, l : 4708.19628906\n",
      "valid accuracy 0.2627\n",
      "batch 19, ep 0, training accuracy 0.325\n",
      "f : 123390.210938, q : -194039.515625, p : -312745.125, l : 4949.09716797\n",
      "batch 19, ep 50, training accuracy 0.22\n",
      "f : 123233.585938, q : -194427.859375, p : -312997.6875, l : 4740.49804688\n",
      "batch 19, ep 100, training accuracy 0.25\n",
      "f : 123104.320312, q : -193824.953125, p : -311410.34375, l : 4716.35839844\n",
      "batch 19, ep 150, training accuracy 0.26\n",
      "f : 122917.390625, q : -195116.625, p : -311683.3125, l : 4648.62011719\n",
      "valid accuracy 0.2737\n",
      "batch 20, ep 0, training accuracy 0.24\n",
      "f : 122816.992188, q : -194037.859375, p : -312933.53125, l : 4801.42285156\n",
      "batch 20, ep 50, training accuracy 0.305\n",
      "f : 122877.960938, q : -193986.890625, p : -313551.8125, l : 4565.265625\n",
      "batch 20, ep 100, training accuracy 0.3\n",
      "f : 123619.601562, q : -193848.890625, p : -312638.09375, l : 4483.51708984\n",
      "batch 20, ep 150, training accuracy 0.275\n",
      "f : 123114.140625, q : -193783.265625, p : -312467.875, l : 4522.24609375\n",
      "valid accuracy 0.2394\n",
      "batch 21, ep 0, training accuracy 0.27\n",
      "f : 123439.929688, q : -194018.234375, p : -312577.78125, l : 5015.58447266\n",
      "batch 21, ep 50, training accuracy 0.26\n",
      "f : 123379.632812, q : -194876.5, p : -312260.46875, l : 4866.28613281\n",
      "batch 21, ep 100, training accuracy 0.245\n",
      "f : 122445.320312, q : -194418.171875, p : -313134.15625, l : 4622.78710938\n",
      "batch 21, ep 150, training accuracy 0.385\n",
      "f : 122609.039062, q : -193674.625, p : -312295.5, l : 4658.75244141\n",
      "valid accuracy 0.2325\n",
      "batch 22, ep 0, training accuracy 0.34\n",
      "f : 122304.3125, q : -194081.6875, p : -311065.71875, l : 4731.56542969\n",
      "batch 22, ep 50, training accuracy 0.31\n",
      "f : 122465.09375, q : -194225.859375, p : -312066.34375, l : 4506.60546875\n",
      "batch 22, ep 100, training accuracy 0.39\n",
      "f : 122372.984375, q : -193746.28125, p : -310815.53125, l : 4476.56982422\n",
      "batch 22, ep 150, training accuracy 0.305\n",
      "f : 121891.539062, q : -193478.828125, p : -311153.34375, l : 4627.60693359\n"
     ]
    },
    {
     "ename": "KeyboardInterrupt",
     "evalue": "",
     "output_type": "error",
     "traceback": [
      "\u001b[1;31m---------------------------------------------------------------------------\u001b[0m",
      "\u001b[1;31mKeyboardInterrupt\u001b[0m                         Traceback (most recent call last)",
      "\u001b[1;32m<ipython-input-8-4a63a364902c>\u001b[0m in \u001b[0;36m<module>\u001b[1;34m()\u001b[0m\n\u001b[0;32m     19\u001b[0m         \u001b[0mfeed\u001b[0m \u001b[1;33m=\u001b[0m \u001b[1;33m{\u001b[0m\u001b[0mbnn\u001b[0m\u001b[1;33m.\u001b[0m\u001b[0mx\u001b[0m\u001b[1;33m:\u001b[0m \u001b[0mx_train\u001b[0m\u001b[1;33m[\u001b[0m\u001b[0mi\u001b[0m\u001b[1;33m*\u001b[0m\u001b[0mbatch_size\u001b[0m\u001b[1;33m:\u001b[0m\u001b[1;33m(\u001b[0m\u001b[0mi\u001b[0m\u001b[1;33m+\u001b[0m\u001b[1;36m1\u001b[0m\u001b[1;33m)\u001b[0m\u001b[1;33m*\u001b[0m\u001b[0mbatch_size\u001b[0m\u001b[1;33m]\u001b[0m\u001b[1;33m,\u001b[0m                 \u001b[0mbnn\u001b[0m\u001b[1;33m.\u001b[0m\u001b[0mt\u001b[0m\u001b[1;33m:\u001b[0m \u001b[0mt_train\u001b[0m\u001b[1;33m[\u001b[0m\u001b[0mi\u001b[0m\u001b[1;33m*\u001b[0m\u001b[0mbatch_size\u001b[0m\u001b[1;33m:\u001b[0m\u001b[1;33m(\u001b[0m\u001b[0mi\u001b[0m\u001b[1;33m+\u001b[0m\u001b[1;36m1\u001b[0m\u001b[1;33m)\u001b[0m\u001b[1;33m*\u001b[0m\u001b[0mbatch_size\u001b[0m\u001b[1;33m]\u001b[0m\u001b[1;33m}\u001b[0m\u001b[1;33m\u001b[0m\u001b[0m\n\u001b[0;32m     20\u001b[0m \u001b[1;33m\u001b[0m\u001b[0m\n\u001b[1;32m---> 21\u001b[1;33m         \u001b[0mv_f\u001b[0m\u001b[1;33m,\u001b[0m \u001b[0mv_q\u001b[0m\u001b[1;33m,\u001b[0m \u001b[0mv_p\u001b[0m\u001b[1;33m,\u001b[0m \u001b[0mv_l\u001b[0m \u001b[1;33m=\u001b[0m \u001b[0mbnn\u001b[0m\u001b[1;33m.\u001b[0m\u001b[0mget_fqpl\u001b[0m\u001b[1;33m(\u001b[0m\u001b[0mfeed\u001b[0m\u001b[1;33m)\u001b[0m\u001b[1;33m\u001b[0m\u001b[0m\n\u001b[0m\u001b[0;32m     22\u001b[0m         \u001b[0mfs\u001b[0m\u001b[1;33m.\u001b[0m\u001b[0mappend\u001b[0m\u001b[1;33m(\u001b[0m\u001b[0mv_f\u001b[0m\u001b[1;33m)\u001b[0m\u001b[1;33m,\u001b[0m \u001b[0mqs\u001b[0m\u001b[1;33m.\u001b[0m\u001b[0mappend\u001b[0m\u001b[1;33m(\u001b[0m\u001b[0mv_q\u001b[0m\u001b[1;33m)\u001b[0m\u001b[1;33m,\u001b[0m \u001b[0mps\u001b[0m\u001b[1;33m.\u001b[0m\u001b[0mappend\u001b[0m\u001b[1;33m(\u001b[0m\u001b[0mv_p\u001b[0m\u001b[1;33m)\u001b[0m\u001b[1;33m,\u001b[0m \u001b[0mls\u001b[0m\u001b[1;33m.\u001b[0m\u001b[0mappend\u001b[0m\u001b[1;33m(\u001b[0m\u001b[0mv_l\u001b[0m\u001b[1;33m)\u001b[0m\u001b[1;33m\u001b[0m\u001b[0m\n\u001b[0;32m     23\u001b[0m \u001b[1;33m\u001b[0m\u001b[0m\n",
      "\u001b[1;32m/root/bayes_nn_shson/bnn_shson.pyc\u001b[0m in \u001b[0;36mget_fqpl\u001b[1;34m(self, feed)\u001b[0m\n\u001b[0;32m    181\u001b[0m \u001b[1;33m\u001b[0m\u001b[0m\n\u001b[0;32m    182\u001b[0m     \u001b[1;32mdef\u001b[0m \u001b[0mget_fqpl\u001b[0m\u001b[1;33m(\u001b[0m\u001b[0mself\u001b[0m\u001b[1;33m,\u001b[0m \u001b[0mfeed\u001b[0m\u001b[1;33m)\u001b[0m\u001b[1;33m:\u001b[0m\u001b[1;33m\u001b[0m\u001b[0m\n\u001b[1;32m--> 183\u001b[1;33m         \u001b[1;32mreturn\u001b[0m \u001b[0mself\u001b[0m\u001b[1;33m.\u001b[0m\u001b[0mloss\u001b[0m\u001b[1;33m.\u001b[0m\u001b[0meval\u001b[0m\u001b[1;33m(\u001b[0m\u001b[0mfeed_dict\u001b[0m \u001b[1;33m=\u001b[0m \u001b[0mfeed\u001b[0m\u001b[1;33m)\u001b[0m\u001b[1;33m,\u001b[0m \u001b[0mself\u001b[0m\u001b[1;33m.\u001b[0m\u001b[0mlog_q_pos\u001b[0m\u001b[1;33m.\u001b[0m\u001b[0meval\u001b[0m\u001b[1;33m(\u001b[0m\u001b[0mfeed_dict\u001b[0m \u001b[1;33m=\u001b[0m \u001b[0mfeed\u001b[0m\u001b[1;33m)\u001b[0m\u001b[1;33m,\u001b[0m \u001b[0mself\u001b[0m\u001b[1;33m.\u001b[0m\u001b[0mlog_p_pri\u001b[0m\u001b[1;33m.\u001b[0m\u001b[0meval\u001b[0m\u001b[1;33m(\u001b[0m\u001b[0mfeed_dict\u001b[0m \u001b[1;33m=\u001b[0m \u001b[0mfeed\u001b[0m\u001b[1;33m)\u001b[0m\u001b[1;33m,\u001b[0m \u001b[0mself\u001b[0m\u001b[1;33m.\u001b[0m\u001b[0mloglike\u001b[0m\u001b[1;33m.\u001b[0m\u001b[0meval\u001b[0m\u001b[1;33m(\u001b[0m\u001b[0mfeed_dict\u001b[0m \u001b[1;33m=\u001b[0m \u001b[0mfeed\u001b[0m\u001b[1;33m)\u001b[0m\u001b[1;33m\u001b[0m\u001b[0m\n\u001b[0m\u001b[0;32m    184\u001b[0m \u001b[1;33m\u001b[0m\u001b[0m\n\u001b[0;32m    185\u001b[0m     \u001b[1;32mdef\u001b[0m \u001b[0mget_params\u001b[0m\u001b[1;33m(\u001b[0m\u001b[0mself\u001b[0m\u001b[1;33m)\u001b[0m\u001b[1;33m:\u001b[0m\u001b[1;33m\u001b[0m\u001b[0m\n",
      "\u001b[1;32m/usr/local/lib/python2.7/dist-packages/tensorflow/python/framework/ops.pyc\u001b[0m in \u001b[0;36meval\u001b[1;34m(self, feed_dict, session)\u001b[0m\n\u001b[0;32m    573\u001b[0m \u001b[1;33m\u001b[0m\u001b[0m\n\u001b[0;32m    574\u001b[0m     \"\"\"\n\u001b[1;32m--> 575\u001b[1;33m     \u001b[1;32mreturn\u001b[0m \u001b[0m_eval_using_default_session\u001b[0m\u001b[1;33m(\u001b[0m\u001b[0mself\u001b[0m\u001b[1;33m,\u001b[0m \u001b[0mfeed_dict\u001b[0m\u001b[1;33m,\u001b[0m \u001b[0mself\u001b[0m\u001b[1;33m.\u001b[0m\u001b[0mgraph\u001b[0m\u001b[1;33m,\u001b[0m \u001b[0msession\u001b[0m\u001b[1;33m)\u001b[0m\u001b[1;33m\u001b[0m\u001b[0m\n\u001b[0m\u001b[0;32m    576\u001b[0m \u001b[1;33m\u001b[0m\u001b[0m\n\u001b[0;32m    577\u001b[0m \u001b[1;33m\u001b[0m\u001b[0m\n",
      "\u001b[1;32m/usr/local/lib/python2.7/dist-packages/tensorflow/python/framework/ops.pyc\u001b[0m in \u001b[0;36m_eval_using_default_session\u001b[1;34m(tensors, feed_dict, graph, session)\u001b[0m\n\u001b[0;32m   3631\u001b[0m                        \u001b[1;34m\"the tensor's graph is different from the session's \"\u001b[0m\u001b[1;33m\u001b[0m\u001b[0m\n\u001b[0;32m   3632\u001b[0m                        \"graph.\")\n\u001b[1;32m-> 3633\u001b[1;33m   \u001b[1;32mreturn\u001b[0m \u001b[0msession\u001b[0m\u001b[1;33m.\u001b[0m\u001b[0mrun\u001b[0m\u001b[1;33m(\u001b[0m\u001b[0mtensors\u001b[0m\u001b[1;33m,\u001b[0m \u001b[0mfeed_dict\u001b[0m\u001b[1;33m)\u001b[0m\u001b[1;33m\u001b[0m\u001b[0m\n\u001b[0m\u001b[0;32m   3634\u001b[0m \u001b[1;33m\u001b[0m\u001b[0m\n\u001b[0;32m   3635\u001b[0m \u001b[1;33m\u001b[0m\u001b[0m\n",
      "\u001b[1;32m/usr/local/lib/python2.7/dist-packages/tensorflow/python/client/session.pyc\u001b[0m in \u001b[0;36mrun\u001b[1;34m(self, fetches, feed_dict, options, run_metadata)\u001b[0m\n\u001b[0;32m    764\u001b[0m     \u001b[1;32mtry\u001b[0m\u001b[1;33m:\u001b[0m\u001b[1;33m\u001b[0m\u001b[0m\n\u001b[0;32m    765\u001b[0m       result = self._run(None, fetches, feed_dict, options_ptr,\n\u001b[1;32m--> 766\u001b[1;33m                          run_metadata_ptr)\n\u001b[0m\u001b[0;32m    767\u001b[0m       \u001b[1;32mif\u001b[0m \u001b[0mrun_metadata\u001b[0m\u001b[1;33m:\u001b[0m\u001b[1;33m\u001b[0m\u001b[0m\n\u001b[0;32m    768\u001b[0m         \u001b[0mproto_data\u001b[0m \u001b[1;33m=\u001b[0m \u001b[0mtf_session\u001b[0m\u001b[1;33m.\u001b[0m\u001b[0mTF_GetBuffer\u001b[0m\u001b[1;33m(\u001b[0m\u001b[0mrun_metadata_ptr\u001b[0m\u001b[1;33m)\u001b[0m\u001b[1;33m\u001b[0m\u001b[0m\n",
      "\u001b[1;32m/usr/local/lib/python2.7/dist-packages/tensorflow/python/client/session.pyc\u001b[0m in \u001b[0;36m_run\u001b[1;34m(self, handle, fetches, feed_dict, options, run_metadata)\u001b[0m\n\u001b[0;32m    962\u001b[0m     \u001b[1;32mif\u001b[0m \u001b[0mfinal_fetches\u001b[0m \u001b[1;32mor\u001b[0m \u001b[0mfinal_targets\u001b[0m\u001b[1;33m:\u001b[0m\u001b[1;33m\u001b[0m\u001b[0m\n\u001b[0;32m    963\u001b[0m       results = self._do_run(handle, final_targets, final_fetches,\n\u001b[1;32m--> 964\u001b[1;33m                              feed_dict_string, options, run_metadata)\n\u001b[0m\u001b[0;32m    965\u001b[0m     \u001b[1;32melse\u001b[0m\u001b[1;33m:\u001b[0m\u001b[1;33m\u001b[0m\u001b[0m\n\u001b[0;32m    966\u001b[0m       \u001b[0mresults\u001b[0m \u001b[1;33m=\u001b[0m \u001b[1;33m[\u001b[0m\u001b[1;33m]\u001b[0m\u001b[1;33m\u001b[0m\u001b[0m\n",
      "\u001b[1;32m/usr/local/lib/python2.7/dist-packages/tensorflow/python/client/session.pyc\u001b[0m in \u001b[0;36m_do_run\u001b[1;34m(self, handle, target_list, fetch_list, feed_dict, options, run_metadata)\u001b[0m\n\u001b[0;32m   1012\u001b[0m     \u001b[1;32mif\u001b[0m \u001b[0mhandle\u001b[0m \u001b[1;32mis\u001b[0m \u001b[0mNone\u001b[0m\u001b[1;33m:\u001b[0m\u001b[1;33m\u001b[0m\u001b[0m\n\u001b[0;32m   1013\u001b[0m       return self._do_call(_run_fn, self._session, feed_dict, fetch_list,\n\u001b[1;32m-> 1014\u001b[1;33m                            target_list, options, run_metadata)\n\u001b[0m\u001b[0;32m   1015\u001b[0m     \u001b[1;32melse\u001b[0m\u001b[1;33m:\u001b[0m\u001b[1;33m\u001b[0m\u001b[0m\n\u001b[0;32m   1016\u001b[0m       return self._do_call(_prun_fn, self._session, handle, feed_dict,\n",
      "\u001b[1;32m/usr/local/lib/python2.7/dist-packages/tensorflow/python/client/session.pyc\u001b[0m in \u001b[0;36m_do_call\u001b[1;34m(self, fn, *args)\u001b[0m\n\u001b[0;32m   1019\u001b[0m   \u001b[1;32mdef\u001b[0m \u001b[0m_do_call\u001b[0m\u001b[1;33m(\u001b[0m\u001b[0mself\u001b[0m\u001b[1;33m,\u001b[0m \u001b[0mfn\u001b[0m\u001b[1;33m,\u001b[0m \u001b[1;33m*\u001b[0m\u001b[0margs\u001b[0m\u001b[1;33m)\u001b[0m\u001b[1;33m:\u001b[0m\u001b[1;33m\u001b[0m\u001b[0m\n\u001b[0;32m   1020\u001b[0m     \u001b[1;32mtry\u001b[0m\u001b[1;33m:\u001b[0m\u001b[1;33m\u001b[0m\u001b[0m\n\u001b[1;32m-> 1021\u001b[1;33m       \u001b[1;32mreturn\u001b[0m \u001b[0mfn\u001b[0m\u001b[1;33m(\u001b[0m\u001b[1;33m*\u001b[0m\u001b[0margs\u001b[0m\u001b[1;33m)\u001b[0m\u001b[1;33m\u001b[0m\u001b[0m\n\u001b[0m\u001b[0;32m   1022\u001b[0m     \u001b[1;32mexcept\u001b[0m \u001b[0merrors\u001b[0m\u001b[1;33m.\u001b[0m\u001b[0mOpError\u001b[0m \u001b[1;32mas\u001b[0m \u001b[0me\u001b[0m\u001b[1;33m:\u001b[0m\u001b[1;33m\u001b[0m\u001b[0m\n\u001b[0;32m   1023\u001b[0m       \u001b[0mmessage\u001b[0m \u001b[1;33m=\u001b[0m \u001b[0mcompat\u001b[0m\u001b[1;33m.\u001b[0m\u001b[0mas_text\u001b[0m\u001b[1;33m(\u001b[0m\u001b[0me\u001b[0m\u001b[1;33m.\u001b[0m\u001b[0mmessage\u001b[0m\u001b[1;33m)\u001b[0m\u001b[1;33m\u001b[0m\u001b[0m\n",
      "\u001b[1;32m/usr/local/lib/python2.7/dist-packages/tensorflow/python/client/session.pyc\u001b[0m in \u001b[0;36m_run_fn\u001b[1;34m(session, feed_dict, fetch_list, target_list, options, run_metadata)\u001b[0m\n\u001b[0;32m   1001\u001b[0m         return tf_session.TF_Run(session, options,\n\u001b[0;32m   1002\u001b[0m                                  \u001b[0mfeed_dict\u001b[0m\u001b[1;33m,\u001b[0m \u001b[0mfetch_list\u001b[0m\u001b[1;33m,\u001b[0m \u001b[0mtarget_list\u001b[0m\u001b[1;33m,\u001b[0m\u001b[1;33m\u001b[0m\u001b[0m\n\u001b[1;32m-> 1003\u001b[1;33m                                  status, run_metadata)\n\u001b[0m\u001b[0;32m   1004\u001b[0m \u001b[1;33m\u001b[0m\u001b[0m\n\u001b[0;32m   1005\u001b[0m     \u001b[1;32mdef\u001b[0m \u001b[0m_prun_fn\u001b[0m\u001b[1;33m(\u001b[0m\u001b[0msession\u001b[0m\u001b[1;33m,\u001b[0m \u001b[0mhandle\u001b[0m\u001b[1;33m,\u001b[0m \u001b[0mfeed_dict\u001b[0m\u001b[1;33m,\u001b[0m \u001b[0mfetch_list\u001b[0m\u001b[1;33m)\u001b[0m\u001b[1;33m:\u001b[0m\u001b[1;33m\u001b[0m\u001b[0m\n",
      "\u001b[1;31mKeyboardInterrupt\u001b[0m: "
     ]
    }
   ],
   "source": [
    "#sess.run(tf.initialize_all_variables())\n",
    "tf.global_variables_initializer().run()\n",
    "\n",
    "n_epochs = 200\n",
    "n_batches = len(t_train) / batch_size\n",
    "\n",
    "fs = list()\n",
    "qs = list()\n",
    "ps = list()\n",
    "ls = list()\n",
    "taccs = list()\n",
    "vaccs = list()\n",
    "for i in range(n_batches):\n",
    "    \n",
    "    bnn.reset_lr()\n",
    "    \n",
    "    for ep in range(n_epochs):\n",
    "        \n",
    "        feed = {bnn.x: x_train[i*batch_size:(i+1)*batch_size], \\\n",
    "                bnn.t: t_train[i*batch_size:(i+1)*batch_size]}\n",
    "        \n",
    "        v_f, v_q, v_p, v_l = bnn.get_fqpl(feed)\n",
    "        fs.append(v_f), qs.append(v_q), ps.append(v_p), ls.append(v_l)\n",
    "\n",
    "        if ep > 50 and np.mean(fs[-50:-25]) < np.mean(fs[-25:]):\n",
    "            last_lr = bnn.get_lr()\n",
    "            bnn.decay_lr()\n",
    "            #print(\"=== learning rate decayed ===\")\n",
    "            if bnn.get_lr == last_lr:\n",
    "                print(\"=== cannot decay more. stop learning this batch ===\")\n",
    "                break\n",
    "            #print (\"--- learning rate decayed ---\")\n",
    "            #print bnn.get_lr()\n",
    "\n",
    "        if ep % 50 == 0:\n",
    "            train_accuracy = bnn.validate(feed)\n",
    "\n",
    "            print(\"batch %d, ep %d, training accuracy %g\"%(i, ep, train_accuracy))\n",
    "            print(\"f : {}, q : {}, p : {}, l : {}\".format(v_f, v_q, v_p, v_l))\n",
    "\n",
    "        bnn.train(feed)\n",
    "        \n",
    "    vacc = bnn.validate({bnn.x: x_valid, bnn.t: t_valid})\n",
    "    vaccs.append(vacc)\n",
    "    taccs.append(train_accuracy)\n",
    "    print(\"valid accuracy %g\"%vacc)\n",
    "    \n",
    "    summary = sess.run(merged, feed_dict ={bnn.x: x_valid, bnn.t: t_valid})\n",
    "    test_writer.add_summary(summary, ep)\n",
    "    \n",
    "#     if i > 10 and np.mean(vaccs[-10:-5]) < np.mean(vaccs[-5:]):\n",
    "#         bnn.decay_lr()\n",
    "    \n",
    "    bnn.update_prior()\n",
    "    \n",
    "\n"
   ]
  },
  {
   "cell_type": "code",
   "execution_count": 9,
   "metadata": {
    "collapsed": false,
    "scrolled": true
   },
   "outputs": [
    {
     "data": {
      "image/png": "[encoded data removed]",
      "text/plain": [
       "<matplotlib.figure.Figure at 0x7f0739591110>"
      ]
     },
     "metadata": {},
     "output_type": "display_data"
    }
   ],
   "source": [
    "plt.plot(fs, 'r')\n",
    "plt.plot(qs, 'b')\n",
    "plt.plot(ps, 'g')\n",
    "plt.plot(ls, 'k')\n",
    "\n",
    "# plt.plot(fs[0:22], 'r')\n",
    "# plt.plot(qs[0:22], 'b')\n",
    "# plt.plot(ps[0:22], 'g')\n",
    "# plt.plot(ls[0:22], 'k')\n",
    "\n",
    "plt.legend(['f', 'q', 'p', 'l'])\n",
    "plt.show()"
   ]
  },
  {
   "cell_type": "code",
   "execution_count": 10,
   "metadata": {
    "collapsed": false,
    "scrolled": true
   },
   "outputs": [
    {
     "data": {
      "image/png": "[encoded data removed]",
      "text/plain": [
       "<matplotlib.figure.Figure at 0x7f073836af90>"
      ]
     },
     "metadata": {},
     "output_type": "display_data"
    }
   ],
   "source": [
    "plt.plot(taccs, 'b')\n",
    "plt.plot(vaccs, 'r')\n",
    "\n",
    "plt.legend(['train_acc', 'valid_acc'])\n",
    "plt.show()"
   ]
  },
  {
   "cell_type": "markdown",
   "metadata": {},
   "source": [
    "# codes used for testing stuff"
   ]
  },
  {
   "cell_type": "code",
   "execution_count": 20,
   "metadata": {
    "collapsed": true
   },
   "outputs": [],
   "source": [
    "a = tf.range(300)\n",
    "aa = tf.reshape(a, [30, 10])\n",
    "aaa = tf.tile(tf.expand_dims(aa, 0), [10, 1, 1])\n",
    "\n",
    "b = tf.truncated_normal([30, 10], stddev = 0.2)\n",
    "\n",
    "argmaxbs = tf.argmax(b, 1)"
   ]
  },
  {
   "cell_type": "code",
   "execution_count": 21,
   "metadata": {
    "collapsed": false
   },
   "outputs": [
    {
     "data": {
      "text/plain": [
       "TensorShape([Dimension(30), Dimension(10)])"
      ]
     },
     "execution_count": 21,
     "metadata": {},
     "output_type": "execute_result"
    }
   ],
   "source": [
    "b.get_shape()"
   ]
  },
  {
   "cell_type": "code",
   "execution_count": 22,
   "metadata": {
    "collapsed": true
   },
   "outputs": [],
   "source": [
    "sess.run(tf.initialize_all_variables())"
   ]
  },
  {
   "cell_type": "code",
   "execution_count": 23,
   "metadata": {
    "collapsed": false
   },
   "outputs": [
    {
     "data": {
      "text/plain": [
       "array([  0,   1,   2, ..., 297, 298, 299], dtype=int32)"
      ]
     },
     "execution_count": 23,
     "metadata": {},
     "output_type": "execute_result"
    }
   ],
   "source": [
    "tf.reshape(aaa, [-1]).eval()"
   ]
  },
  {
   "cell_type": "code",
   "execution_count": 26,
   "metadata": {
    "collapsed": false
   },
   "outputs": [
    {
     "name": "stdout",
     "output_type": "stream",
     "text": [
      "[  5  11  27  32  43  57  63  76  84  97 105 118 123 138 142 158 164 172\n",
      " 182 193 201 215 227 237 248 258 261 271 281 298   5  11  27  32  43  57\n",
      "  63  76  84  97 105 118 123 138 142 158 164 172 182 193 201 215 227 237\n",
      " 248 258 261 271 281 298   5  11  27  32  43  57  63  76  84  97 105 118\n",
      " 123 138 142 158 164 172 182 193 201 215 227 237 248 258 261 271 281 298\n",
      "   5  11  27  32  43  57  63  76  84  97 105 118 123 138 142 158 164 172\n",
      " 182 193 201 215 227 237 248 258 261 271 281 298   5  11  27  32  43  57\n",
      "  63  76  84  97 105 118 123 138 142 158 164 172 182 193 201 215 227 237\n",
      " 248 258 261 271 281 298   5  11  27  32  43  57  63  76  84  97 105 118\n",
      " 123 138 142 158 164 172 182 193 201 215 227 237 248 258 261 271 281 298\n",
      "   5  11  27  32  43  57  63  76  84  97 105 118 123 138 142 158 164 172\n",
      " 182 193 201 215 227 237 248 258 261 271 281 298   5  11  27  32  43  57\n",
      "  63  76  84  97 105 118 123 138 142 158 164 172 182 193 201 215 227 237\n",
      " 248 258 261 271 281 298   5  11  27  32  43  57  63  76  84  97 105 118\n",
      " 123 138 142 158 164 172 182 193 201 215 227 237 248 258 261 271 281 298\n",
      "   5  11  27  32  43  57  63  76  84  97 105 118 123 138 142 158 164 172\n",
      " 182 193 201 215 227 237 248 258 261 271 281 298]\n",
      "(300,)\n"
     ]
    },
    {
     "data": {
      "text/plain": [
       "array([3, 2, 5, 3, 8, 6, 1, 0, 7, 0, 3, 7, 8, 0, 4, 5, 8, 8, 0, 2, 6, 7, 7,\n",
       "       0, 3, 7, 8, 3, 8, 0])"
      ]
     },
     "execution_count": 26,
     "metadata": {},
     "output_type": "execute_result"
    }
   ],
   "source": [
    "ar = tf.range(30).eval()\n",
    "br = ar * 10 + argmaxbs.eval()\n",
    "cr = tf.tile(br, [10])\n",
    "\n",
    "result = tf.gather(tf.reshape(aaa, [-1]), cr).eval()\n",
    "print result\n",
    "print result.shape\n",
    "argmaxbs.eval()\n",
    "\n"
   ]
  },
  {
   "cell_type": "code",
   "execution_count": 11,
   "metadata": {
    "collapsed": false
   },
   "outputs": [
    {
     "data": {
      "text/plain": [
       "2"
      ]
     },
     "execution_count": 11,
     "metadata": {},
     "output_type": "execute_result"
    }
   ],
   "source": [
    "tf.shape(a).eval()[0]"
   ]
  },
  {
   "cell_type": "code",
   "execution_count": 66,
   "metadata": {
    "collapsed": false
   },
   "outputs": [
    {
     "name": "stdout",
     "output_type": "stream",
     "text": [
      "[[-0.04836457  0.11699509 -0.10365508]\n",
      " [-0.11315618 -0.14960578 -0.13785519]]\n",
      "[[-0.04836457  0.11699509 -0.10365508 -0.04836457  0.11699509 -0.10365508\n",
      "  -0.04836457  0.11699509 -0.10365508]\n",
      " [-0.11315618 -0.14960578 -0.13785519 -0.11315618 -0.14960578 -0.13785519\n",
      "  -0.11315618 -0.14960578 -0.13785519]\n",
      " [-0.04836457  0.11699509 -0.10365508 -0.04836457  0.11699509 -0.10365508\n",
      "  -0.04836457  0.11699509 -0.10365508]\n",
      " [-0.11315618 -0.14960578 -0.13785519 -0.11315618 -0.14960578 -0.13785519\n",
      "  -0.11315618 -0.14960578 -0.13785519]\n",
      " [-0.04836457  0.11699509 -0.10365508 -0.04836457  0.11699509 -0.10365508\n",
      "  -0.04836457  0.11699509 -0.10365508]\n",
      " [-0.11315618 -0.14960578 -0.13785519 -0.11315618 -0.14960578 -0.13785519\n",
      "  -0.11315618 -0.14960578 -0.13785519]\n",
      " [-0.04836457  0.11699509 -0.10365508 -0.04836457  0.11699509 -0.10365508\n",
      "  -0.04836457  0.11699509 -0.10365508]\n",
      " [-0.11315618 -0.14960578 -0.13785519 -0.11315618 -0.14960578 -0.13785519\n",
      "  -0.11315618 -0.14960578 -0.13785519]\n",
      " [-0.04836457  0.11699509 -0.10365508 -0.04836457  0.11699509 -0.10365508\n",
      "  -0.04836457  0.11699509 -0.10365508]\n",
      " [-0.11315618 -0.14960578 -0.13785519 -0.11315618 -0.14960578 -0.13785519\n",
      "  -0.11315618 -0.14960578 -0.13785519]\n",
      " [-0.04836457  0.11699509 -0.10365508 -0.04836457  0.11699509 -0.10365508\n",
      "  -0.04836457  0.11699509 -0.10365508]\n",
      " [-0.11315618 -0.14960578 -0.13785519 -0.11315618 -0.14960578 -0.13785519\n",
      "  -0.11315618 -0.14960578 -0.13785519]]\n",
      "[[[-0.04836457  0.11699509 -0.10365508]\n",
      "  [-0.11315618 -0.14960578 -0.13785519]]\n",
      "\n",
      " [[-0.04836457  0.11699509 -0.10365508]\n",
      "  [-0.11315618 -0.14960578 -0.13785519]]]\n",
      "[[ 0.04836457 -0.11699509  0.10365508]\n",
      " [ 0.11315618  0.14960578  0.13785519]]\n",
      "[[ 0.04836457 -0.11699509  0.10365508  0.04836457 -0.11699509  0.10365508\n",
      "   0.04836457 -0.11699509  0.10365508]\n",
      " [ 0.11315618  0.14960578  0.13785519  0.11315618  0.14960578  0.13785519\n",
      "   0.11315618  0.14960578  0.13785519]\n",
      " [ 0.04836457 -0.11699509  0.10365508  0.04836457 -0.11699509  0.10365508\n",
      "   0.04836457 -0.11699509  0.10365508]\n",
      " [ 0.11315618  0.14960578  0.13785519  0.11315618  0.14960578  0.13785519\n",
      "   0.11315618  0.14960578  0.13785519]\n",
      " [ 0.04836457 -0.11699509  0.10365508  0.04836457 -0.11699509  0.10365508\n",
      "   0.04836457 -0.11699509  0.10365508]\n",
      " [ 0.11315618  0.14960578  0.13785519  0.11315618  0.14960578  0.13785519\n",
      "   0.11315618  0.14960578  0.13785519]\n",
      " [ 0.04836457 -0.11699509  0.10365508  0.04836457 -0.11699509  0.10365508\n",
      "   0.04836457 -0.11699509  0.10365508]\n",
      " [ 0.11315618  0.14960578  0.13785519  0.11315618  0.14960578  0.13785519\n",
      "   0.11315618  0.14960578  0.13785519]\n",
      " [ 0.04836457 -0.11699509  0.10365508  0.04836457 -0.11699509  0.10365508\n",
      "   0.04836457 -0.11699509  0.10365508]\n",
      " [ 0.11315618  0.14960578  0.13785519  0.11315618  0.14960578  0.13785519\n",
      "   0.11315618  0.14960578  0.13785519]\n",
      " [ 0.04836457 -0.11699509  0.10365508  0.04836457 -0.11699509  0.10365508\n",
      "   0.04836457 -0.11699509  0.10365508]\n",
      " [ 0.11315618  0.14960578  0.13785519  0.11315618  0.14960578  0.13785519\n",
      "   0.11315618  0.14960578  0.13785519]]\n",
      "[[ 0.04836457 -0.11699509  0.10365508]\n",
      " [ 0.11315618  0.14960578  0.13785519]]\n",
      "[[ 0.04836457  0.11315618]\n",
      " [-0.11699509  0.14960578]\n",
      " [ 0.10365508  0.13785519]]\n"
     ]
    }
   ],
   "source": [
    "with sess:\n",
    "    sess.run(tf.initialize_all_variables())\n",
    "    print a.eval()\n",
    "    print tf.tile(a, [6, 3]).eval()\n",
    "    print tf.tile(tf.expand_dims(a, 0), [2, 1, 1]).eval()\n",
    "    a = a * b\n",
    "    print a.eval()\n",
    "    print tf.tile(a, [6, 3]).eval()\n",
    "    print tf.transpose(a, [0, 1]).eval()\n",
    "    print tf.transpose(a, [1, 0]).eval()"
   ]
  },
  {
   "cell_type": "code",
   "execution_count": 13,
   "metadata": {
    "collapsed": false
   },
   "outputs": [
    {
     "name": "stdout",
     "output_type": "stream",
     "text": [
      "[ 2.11307557  2.01307557]\n",
      "[ 2.11307557  2.01307557]\n"
     ]
    }
   ],
   "source": [
    "t1 = np.array([[0.1, 0.2, 0.3, 0.4, 0., 0., 0., 0., 0., 0.], [0.1, 0.2, 0.3, 0.4, 0., 0., 0., 0., 0., 0.]])\n",
    "t2 = np.array([[0., 0., 1, 0., 0., 0., 0., 0., 0., 0.], [0., 0., 0., 1, 0., 0., 0., 0., 0., 0.]])\n",
    "print tf.nn.softmax_cross_entropy_with_logits(t1, t2).eval()\n",
    "print tf.nn.softmax_cross_entropy_with_logits(t1, t2).eval()\n"
   ]
  },
  {
   "cell_type": "code",
   "execution_count": 22,
   "metadata": {
    "collapsed": false
   },
   "outputs": [
    {
     "data": {
      "text/plain": [
       "-1.2039728"
      ]
     },
     "execution_count": 22,
     "metadata": {},
     "output_type": "execute_result"
    }
   ],
   "source": [
    "tf.log(0.3).eval()"
   ]
  },
  {
   "cell_type": "code",
   "execution_count": 9,
   "metadata": {
    "collapsed": false
   },
   "outputs": [
    {
     "name": "stdout",
     "output_type": "stream",
     "text": [
      "[[[1]\n",
      "  [2]\n",
      "  [3]\n",
      "  [4]\n",
      "  [5]]\n",
      "\n",
      " [[1]\n",
      "  [2]\n",
      "  [3]\n",
      "  [4]\n",
      "  [5]]\n",
      "\n",
      " [[1]\n",
      "  [2]\n",
      "  [3]\n",
      "  [4]\n",
      "  [5]]\n",
      "\n",
      " [[1]\n",
      "  [2]\n",
      "  [3]\n",
      "  [4]\n",
      "  [5]]\n",
      "\n",
      " [[1]\n",
      "  [2]\n",
      "  [3]\n",
      "  [4]\n",
      "  [5]]\n",
      "\n",
      " [[1]\n",
      "  [2]\n",
      "  [3]\n",
      "  [4]\n",
      "  [5]]\n",
      "\n",
      " [[1]\n",
      "  [2]\n",
      "  [3]\n",
      "  [4]\n",
      "  [5]]\n",
      "\n",
      " [[1]\n",
      "  [2]\n",
      "  [3]\n",
      "  [4]\n",
      "  [5]]\n",
      "\n",
      " [[1]\n",
      "  [2]\n",
      "  [3]\n",
      "  [4]\n",
      "  [5]]\n",
      "\n",
      " [[1]\n",
      "  [2]\n",
      "  [3]\n",
      "  [4]\n",
      "  [5]]]\n",
      "[[1]\n",
      " [2]\n",
      " [3]\n",
      " [4]\n",
      " [5]\n",
      " [1]\n",
      " [2]\n",
      " [3]\n",
      " [4]\n",
      " [5]\n",
      " [1]\n",
      " [2]\n",
      " [3]\n",
      " [4]\n",
      " [5]\n",
      " [1]\n",
      " [2]\n",
      " [3]\n",
      " [4]\n",
      " [5]\n",
      " [1]\n",
      " [2]\n",
      " [3]\n",
      " [4]\n",
      " [5]\n",
      " [1]\n",
      " [2]\n",
      " [3]\n",
      " [4]\n",
      " [5]\n",
      " [1]\n",
      " [2]\n",
      " [3]\n",
      " [4]\n",
      " [5]\n",
      " [1]\n",
      " [2]\n",
      " [3]\n",
      " [4]\n",
      " [5]\n",
      " [1]\n",
      " [2]\n",
      " [3]\n",
      " [4]\n",
      " [5]\n",
      " [1]\n",
      " [2]\n",
      " [3]\n",
      " [4]\n",
      " [5]]\n"
     ]
    }
   ],
   "source": [
    "t3 = tf.tile(tf.expand_dims(np.array([[1], [2], [3], [4], [5]]), 0), [10, 1, 1])\n",
    "print t3.eval()\n",
    "t4 = tf.reshape(t3, [-1, 1])\n",
    "print t4.eval()\n"
   ]
  },
  {
   "cell_type": "code",
   "execution_count": 12,
   "metadata": {
    "collapsed": false
   },
   "outputs": [
    {
     "name": "stdout",
     "output_type": "stream",
     "text": [
      "976630367\n"
     ]
    }
   ],
   "source": [
    "tsh = tf.shape(t3)\n",
    "tf.shape(t3).eval()\n",
    "print tsh[-1].eval()"
   ]
  },
  {
   "cell_type": "code",
   "execution_count": null,
   "metadata": {
    "collapsed": true
   },
   "outputs": [],
   "source": []
  }
 ],
 "metadata": {
  "kernelspec": {
   "display_name": "Python 2",
   "language": "python",
   "name": "python2"
  },
  "language_info": {
   "codemirror_mode": {
    "name": "ipython",
    "version": 2
   },
   "file_extension": ".py",
   "mimetype": "text/x-python",
   "name": "python",
   "nbconvert_exporter": "python",
   "pygments_lexer": "ipython2",
   "version": "2.7.6"
  }
 },
 "nbformat": 4,
 "nbformat_minor": 0
}
