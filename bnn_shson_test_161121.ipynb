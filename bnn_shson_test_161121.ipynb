{
 "cells": [
  {
   "cell_type": "code",
   "execution_count": 1,
   "metadata": {
    "collapsed": false
   },
   "outputs": [],
   "source": [
    "import tensorflow as tf\n",
    "import numpy as np\n",
    "import os, sys, time, datetime\n",
    "import matplotlib.pyplot as plt\n",
    "from bnn_shson import *\n",
    "import h5py\n",
    "\n",
    "%matplotlib inline\n"
   ]
  },
  {
   "cell_type": "code",
   "execution_count": 2,
   "metadata": {
    "collapsed": true
   },
   "outputs": [],
   "source": [
    "def num_to_onehot(nums, n_labels):\n",
    "    results = list()\n",
    "    for i in range(len(nums)):\n",
    "        res = np.zeros([n_labels])\n",
    "        res[nums[i]] = 1\n",
    "        results.append(res)\n",
    "    return np.asarray(results, dtype = 'float32')\n",
    "        "
   ]
  },
  {
   "cell_type": "code",
   "execution_count": 3,
   "metadata": {
    "collapsed": false
   },
   "outputs": [],
   "source": [
    "mnist = h5py.File('mnist.hdf5', 'r')\n",
    "\n",
    "x_train = mnist['train_data'][()]\n",
    "t_train = num_to_onehot(mnist['train_label'][()], 10)\n",
    "x_valid = mnist['valid_data'][()]\n",
    "t_valid = num_to_onehot(mnist['valid_label'][()], 10)\n",
    "x_test = mnist['test_data'][()]\n",
    "t_test = num_to_onehot(mnist['test_label'][()], 10)\n",
    "\n",
    "mnist.close()"
   ]
  },
  {
   "cell_type": "code",
   "execution_count": 4,
   "metadata": {
    "collapsed": true
   },
   "outputs": [],
   "source": [
    "#sess = tf.InteractiveSession()\n",
    "try:\n",
    "    sess.close()\n",
    "except:\n",
    "    pass\n",
    "sess = tf.InteractiveSession(config=tf.ConfigProto(gpu_options=tf.GPUOptions(per_process_gpu_memory_fraction=0.2)))\n"
   ]
  },
  {
   "cell_type": "code",
   "execution_count": 5,
   "metadata": {
    "collapsed": true
   },
   "outputs": [],
   "source": [
    "batch_size = 200"
   ]
  },
  {
   "cell_type": "markdown",
   "metadata": {},
   "source": [
    "# Blundell version"
   ]
  },
  {
   "cell_type": "code",
   "execution_count": 6,
   "metadata": {
    "collapsed": false,
    "scrolled": true
   },
   "outputs": [
    {
     "name": "stdout",
     "output_type": "stream",
     "text": [
      "layer done\n",
      "layer done\n",
      "(10, ?, 10)\n"
     ]
    }
   ],
   "source": [
    "#bnn = bnn_model(shape, mu = 0.1, rho = 0.1, n_samples = 10, outact = tf.sigmoid, seed = 1234, lr = 1e-8)\n",
    "bnn = bnn_model([784, 50, 10], size_data = len(t_train), size_batch = batch_size, \\\n",
    "                mu = 0.02, rho = -1, n_samples = 10, outact = tf.sigmoid, seed = 1234, \\\n",
    "                lr = 1e-3, kl_reweight = True)"
   ]
  },
  {
   "cell_type": "code",
   "execution_count": 7,
   "metadata": {
    "collapsed": false
   },
   "outputs": [
    {
     "name": "stdout",
     "output_type": "stream",
     "text": [
      "ep 0, step 0, training accuracy 0.12\n",
      "f : 158433.5, q : -395675.8125, p : -681588.875, l : 14897.1064453\n",
      "ep 0, step 50, training accuracy 0.14\n",
      "f : 5204.37011719, q : -393143.875, p : -684969.0, l : 5361.90478516\n",
      "ep 0, step 100, training accuracy 0.22\n",
      "f : 4744.19335938, q : -392972.125, p : -687887.0, l : 4748.96484375\n",
      "ep 0, step 150, training accuracy 0.365\n",
      "f : 4236.07666016, q : -393928.59375, p : -691311.375, l : 4316.70117188\n",
      "ep 0, step 200, training accuracy 0.485\n",
      "f : 3603.91210938, q : -392260.75, p : -691830.3125, l : 3807.90917969\n",
      "valid accuracy 0.4544\n",
      "ep 1, step 0, training accuracy 0.47\n",
      "f : 155175.84375, q : -392200.5, p : -695550.1875, l : 3339.85424805\n",
      "ep 1, step 50, training accuracy 0.555\n",
      "f : 3110.14355469, q : -390537.625, p : -693399.625, l : 3121.4765625\n",
      "ep 1, step 100, training accuracy 0.585\n",
      "f : 3002.48388672, q : -390206.8125, p : -695945.5625, l : 3048.96533203\n",
      "ep 1, step 150, training accuracy 0.58\n",
      "f : 3105.33666992, q : -390380.6875, p : -696804.375, l : 2978.86132812\n",
      "ep 1, step 200, training accuracy 0.735\n",
      "f : 2229.04199219, q : -389305.6875, p : -697991.5, l : 2185.16894531\n",
      "valid accuracy 0.7544\n",
      "ep 2, step 0, training accuracy 0.74\n",
      "f : 157162.96875, q : -389888.125, p : -702368.75, l : 2162.8269043\n",
      "ep 2, step 50, training accuracy 0.775\n",
      "f : 2134.3684082, q : -388876.125, p : -697036.3125, l : 2112.34033203\n",
      "ep 2, step 100, training accuracy 0.72\n",
      "f : 2146.37304688, q : -387945.71875, p : -699923.0, l : 2204.78491211\n",
      "ep 2, step 150, training accuracy 0.73\n",
      "f : 2351.05053711, q : -388028.34375, p : -700253.75, l : 2250.20019531\n",
      "ep 2, step 200, training accuracy 0.795\n",
      "f : 1658.99450684, q : -387666.5625, p : -701294.375, l : 1599.83666992\n",
      "valid accuracy 0.8154\n",
      "ep 3, step 0, training accuracy 0.815\n",
      "f : 159220.796875, q : -387654.375, p : -703627.125, l : 1854.55810547\n",
      "ep 3, step 50, training accuracy 0.825\n",
      "f : 1804.50170898, q : -386835.5625, p : -698129.375, l : 1774.19335938\n",
      "ep 3, step 100, training accuracy 0.775\n",
      "f : 1804.53063965, q : -386212.3125, p : -698115.125, l : 1888.6418457\n",
      "ep 3, step 150, training accuracy 0.77\n",
      "f : 1942.60510254, q : -386071.375, p : -699621.375, l : 1967.39416504\n",
      "ep 3, step 200, training accuracy 0.835\n",
      "f : 1469.99279785, q : -385914.65625, p : -702420.25, l : 1449.80773926\n",
      "valid accuracy 0.8421\n",
      "ep 4, step 0, training accuracy 0.81\n",
      "f : 159189.703125, q : -386288.375, p : -703019.5, l : 1617.88256836\n",
      "ep 4, step 50, training accuracy 0.85\n",
      "f : 1422.4732666, q : -385038.625, p : -698951.25, l : 1468.46826172\n",
      "ep 4, step 100, training accuracy 0.815\n",
      "f : 1724.69311523, q : -383694.96875, p : -698990.875, l : 1620.28369141\n",
      "ep 4, step 150, training accuracy 0.795\n",
      "f : 1756.51916504, q : -384982.1875, p : -697350.625, l : 1862.09179688\n",
      "ep 4, step 200, training accuracy 0.865\n",
      "f : 1261.02062988, q : -384514.78125, p : -699492.625, l : 1196.00830078\n",
      "valid accuracy 0.8604\n",
      "ep 5, step 0, training accuracy 0.855\n",
      "f : 159178.234375, q : -384362.875, p : -702013.5, l : 1472.39355469\n",
      "ep 5, step 50, training accuracy 0.845\n",
      "f : 1320.61108398, q : -383390.65625, p : -697197.625, l : 1290.4128418\n",
      "ep 5, step 100, training accuracy 0.8\n",
      "f : 1488.48571777, q : -384458.375, p : -697762.5, l : 1508.46362305\n",
      "ep 5, step 150, training accuracy 0.835\n",
      "f : 1629.77709961, q : -382978.25, p : -698256.75, l : 1593.83654785\n",
      "ep 5, step 200, training accuracy 0.875\n",
      "f : 1118.36035156, q : -382391.1875, p : -699741.0, l : 1138.82714844\n",
      "valid accuracy 0.8809\n",
      "ep 6, step 0, training accuracy 0.865\n",
      "f : 159589.0625, q : -382596.15625, p : -698751.625, l : 1347.09265137\n",
      "ep 6, step 50, training accuracy 0.845\n",
      "f : 1199.7902832, q : -382103.3125, p : -694680.875, l : 1142.48144531\n",
      "ep 6, step 100, training accuracy 0.845\n",
      "f : 1379.37060547, q : -381404.03125, p : -695860.6875, l : 1346.98693848\n",
      "ep 6, step 150, training accuracy 0.825\n",
      "f : 1439.11499023, q : -381514.8125, p : -697100.4375, l : 1434.04882812\n",
      "ep 6, step 200, training accuracy 0.885\n",
      "f : 960.376708984, q : -380756.84375, p : -698806.9375, l : 1056.70825195\n",
      "valid accuracy 0.8905\n",
      "ep 7, step 0, training accuracy 0.885\n",
      "f : 160125.03125, q : -381358.5625, p : -700957.875, l : 1196.06274414\n",
      "ep 7, step 50, training accuracy 0.86\n",
      "f : 1112.04248047, q : -380269.3125, p : -695050.6875, l : 1100.99755859\n",
      "ep 7, step 100, training accuracy 0.865\n",
      "f : 1339.54711914, q : -380289.3125, p : -694093.625, l : 1363.56262207\n",
      "ep 7, step 150, training accuracy 0.875\n",
      "f : 1360.36462402, q : -380497.875, p : -696276.8125, l : 1398.37072754\n",
      "ep 7, step 200, training accuracy 0.875\n",
      "f : 916.862792969, q : -379636.875, p : -696647.875, l : 918.394042969\n",
      "valid accuracy 0.8995\n",
      "ep 8, step 0, training accuracy 0.865\n",
      "f : 160036.859375, q : -380279.9375, p : -696325.5, l : 1163.44604492\n",
      "ep 8, step 50, training accuracy 0.88\n",
      "f : 1045.53662109, q : -378655.71875, p : -691151.125, l : 1076.11157227\n",
      "ep 8, step 100, training accuracy 0.86\n",
      "f : 1204.72192383, q : -378215.6875, p : -692140.1875, l : 1218.09570312\n",
      "ep 8, step 150, training accuracy 0.885\n",
      "f : 1301.41809082, q : -378496.96875, p : -693885.0, l : 1286.57714844\n",
      "ep 8, step 200, training accuracy 0.895\n",
      "f : 868.66809082, q : -378500.875, p : -695748.75, l : 896.965698242\n",
      "valid accuracy 0.9011\n",
      "ep 9, step 0, training accuracy 0.875\n",
      "f : 158998.515625, q : -377939.5, p : -694533.25, l : 1034.2800293\n",
      "ep 9, step 50, training accuracy 0.87\n",
      "f : 992.190551758, q : -376181.25, p : -690501.25, l : 1086.39501953\n",
      "ep 9, step 100, training accuracy 0.88\n",
      "f : 1142.4909668, q : -376800.9375, p : -692761.125, l : 1242.56982422\n",
      "ep 9, step 150, training accuracy 0.885\n",
      "f : 1180.34143066, q : -376135.5, p : -690745.1875, l : 1185.28894043\n",
      "ep 9, step 200, training accuracy 0.905\n",
      "f : 845.851501465, q : -375999.78125, p : -691389.4375, l : 888.087280273\n",
      "valid accuracy 0.9115\n",
      "ep 10, step 0, training accuracy 0.895\n",
      "f : 158758.265625, q : -376154.59375, p : -692340.375, l : 1014.81164551\n",
      "ep 10, step 50, training accuracy 0.895\n",
      "f : 974.376159668, q : -375976.59375, p : -687222.375, l : 1013.60638428\n",
      "ep 10, step 100, training accuracy 0.88\n",
      "f : 1123.6105957, q : -375596.8125, p : -687682.0, l : 1140.66699219\n",
      "ep 10, step 150, training accuracy 0.875\n",
      "f : 1141.77844238, q : -375128.5625, p : -689648.875, l : 1158.71411133\n",
      "ep 10, step 200, training accuracy 0.915\n",
      "f : 795.792175293, q : -374999.71875, p : -688892.875, l : 795.262084961\n",
      "valid accuracy 0.9084\n",
      "ep 11, step 0, training accuracy 0.895\n",
      "f : 158948.375, q : -374696.5, p : -689076.875, l : 961.38104248\n",
      "ep 11, step 50, training accuracy 0.88\n",
      "f : 1058.94567871, q : -374030.75, p : -685200.125, l : 1001.8961792\n",
      "ep 11, step 100, training accuracy 0.89\n",
      "f : 1121.64355469, q : -374820.0, p : -685776.375, l : 1144.67749023\n",
      "ep 11, step 150, training accuracy 0.875\n",
      "f : 1152.36682129, q : -374568.0, p : -688325.625, l : 1131.97607422\n",
      "ep 11, step 200, training accuracy 0.9\n",
      "f : 757.528015137, q : -373690.3125, p : -687815.625, l : 797.991088867\n",
      "valid accuracy 0.9132\n",
      "ep 12, step 0, training accuracy 0.9\n",
      "f : 157857.3125, q : -372892.625, p : -687781.875, l : 1000.30633545\n",
      "ep 12, step 50, training accuracy 0.9\n",
      "f : 897.275634766, q : -372744.5625, p : -683723.375, l : 979.764160156\n",
      "ep 12, step 100, training accuracy 0.87\n",
      "f : 1118.19030762, q : -372332.4375, p : -684144.0625, l : 1093.43212891\n",
      "ep 12, step 150, training accuracy 0.88\n",
      "f : 1189.20446777, q : -371943.1875, p : -685160.75, l : 1045.78100586\n",
      "ep 12, step 200, training accuracy 0.93\n",
      "f : 729.809326172, q : -371705.3125, p : -684918.75, l : 753.172912598\n",
      "valid accuracy 0.9165\n",
      "ep 13, step 0, training accuracy 0.905\n",
      "f : 158316.15625, q : -372300.1875, p : -685818.6875, l : 944.322143555\n",
      "ep 13, step 50, training accuracy 0.9\n",
      "f : 898.898071289, q : -370980.3125, p : -682027.1875, l : 887.847290039\n",
      "ep 13, step 100, training accuracy 0.895\n",
      "f : 1078.9498291, q : -371174.65625, p : -682060.5, l : 1112.89831543\n",
      "ep 13, step 150, training accuracy 0.88\n",
      "f : 1084.58996582, q : -371282.21875, p : -682546.375, l : 1109.87316895\n",
      "ep 13, step 200, training accuracy 0.925\n",
      "f : 725.459106445, q : -370600.25, p : -682672.4375, l : 743.46887207\n",
      "valid accuracy 0.9176\n",
      "ep 14, step 0, training accuracy 0.905\n",
      "f : 157504.5, q : -370647.375, p : -683018.4375, l : 912.251586914\n",
      "ep 14, step 50, training accuracy 0.905\n",
      "f : 925.661437988, q : -370276.09375, p : -679810.25, l : 842.885009766\n",
      "ep 14, step 100, training accuracy 0.9\n",
      "f : 1022.76623535, q : -369721.125, p : -679331.8125, l : 1019.65350342\n",
      "ep 14, step 150, training accuracy 0.895\n",
      "f : 1055.77160645, q : -370029.0, p : -679357.75, l : 1058.79992676\n",
      "ep 14, step 200, training accuracy 0.93\n",
      "f : 736.815307617, q : -370017.125, p : -678732.375, l : 712.008239746\n",
      "valid accuracy 0.9203\n",
      "ep 15, step 0, training accuracy 0.91\n",
      "f : 155698.546875, q : -369824.03125, p : -682114.0, l : 868.079040527\n",
      "ep 15, step 50, training accuracy 0.9\n",
      "f : 840.780883789, q : -368953.375, p : -676353.25, l : 945.630371094\n",
      "ep 15, step 100, training accuracy 0.905\n",
      "f : 1034.66772461, q : -367992.4375, p : -677256.5625, l : 1039.51855469\n",
      "ep 15, step 150, training accuracy 0.91\n",
      "f : 1078.85351562, q : -367981.5, p : -677343.75, l : 1020.95135498\n",
      "ep 15, step 200, training accuracy 0.925\n",
      "f : 668.014831543, q : -367592.625, p : -678091.5625, l : 655.442749023\n",
      "valid accuracy 0.9189\n",
      "ep 16, step 0, training accuracy 0.93\n",
      "f : 155933.46875, q : -367773.0, p : -680019.1875, l : 871.028442383\n",
      "ep 16, step 50, training accuracy 0.9\n",
      "f : 908.219360352, q : -367817.1875, p : -674163.4375, l : 890.799682617\n",
      "ep 16, step 100, training accuracy 0.89\n",
      "f : 988.225036621, q : -366865.875, p : -675487.625, l : 1044.38745117\n",
      "ep 16, step 150, training accuracy 0.905\n",
      "f : 1019.51428223, q : -366901.625, p : -674784.9375, l : 958.469360352\n",
      "ep 16, step 200, training accuracy 0.94\n",
      "f : 656.183654785, q : -366682.40625, p : -675695.5625, l : 689.10736084\n",
      "valid accuracy 0.9207\n",
      "ep 17, step 0, training accuracy 0.905\n",
      "f : 154898.328125, q : -366555.75, p : -676738.8125, l : 862.661987305\n",
      "ep 17, step 50, training accuracy 0.905\n",
      "f : 880.569946289, q : -366737.4375, p : -672289.375, l : 837.331481934\n"
     ]
    },
    {
     "ename": "KeyboardInterrupt",
     "evalue": "",
     "output_type": "error",
     "traceback": [
      "\u001b[1;31m---------------------------------------------------------------------------\u001b[0m",
      "\u001b[1;31mKeyboardInterrupt\u001b[0m                         Traceback (most recent call last)",
      "\u001b[1;32m<ipython-input-7-fe93fc865272>\u001b[0m in \u001b[0;36m<module>\u001b[1;34m()\u001b[0m\n\u001b[0;32m     14\u001b[0m \u001b[1;33m\u001b[0m\u001b[0m\n\u001b[0;32m     15\u001b[0m     \u001b[1;32mfor\u001b[0m \u001b[0mi\u001b[0m \u001b[1;32min\u001b[0m \u001b[0mrange\u001b[0m\u001b[1;33m(\u001b[0m\u001b[0mn_batches\u001b[0m\u001b[1;33m)\u001b[0m\u001b[1;33m:\u001b[0m\u001b[1;33m\u001b[0m\u001b[0m\n\u001b[1;32m---> 16\u001b[1;33m         \u001b[0mbnn\u001b[0m\u001b[1;33m.\u001b[0m\u001b[0mdecay_klrw\u001b[0m\u001b[1;33m(\u001b[0m\u001b[1;33m)\u001b[0m\u001b[1;33m\u001b[0m\u001b[0m\n\u001b[0m\u001b[0;32m     17\u001b[0m \u001b[1;31m#         if (i+1) % 20 == 0:\u001b[0m\u001b[1;33m\u001b[0m\u001b[1;33m\u001b[0m\u001b[0m\n\u001b[0;32m     18\u001b[0m \u001b[1;31m#             print(\"klrw index : %g\"%(bnn.get_klrw()))\u001b[0m\u001b[1;33m\u001b[0m\u001b[1;33m\u001b[0m\u001b[0m\n",
      "\u001b[1;32m/root/bayes_nn_shson/bnn_shson.pyc\u001b[0m in \u001b[0;36mdecay_klrw\u001b[1;34m(self)\u001b[0m\n\u001b[0;32m    177\u001b[0m \u001b[1;33m\u001b[0m\u001b[0m\n\u001b[0;32m    178\u001b[0m     \u001b[1;32mdef\u001b[0m \u001b[0mdecay_klrw\u001b[0m\u001b[1;33m(\u001b[0m\u001b[0mself\u001b[0m\u001b[1;33m)\u001b[0m\u001b[1;33m:\u001b[0m\u001b[1;33m\u001b[0m\u001b[0m\n\u001b[1;32m--> 179\u001b[1;33m         \u001b[0mself\u001b[0m\u001b[1;33m.\u001b[0m\u001b[0mcoeff_kl\u001b[0m\u001b[1;33m.\u001b[0m\u001b[0massign\u001b[0m\u001b[1;33m(\u001b[0m\u001b[0mself\u001b[0m\u001b[1;33m.\u001b[0m\u001b[0mcoeff_kl\u001b[0m\u001b[1;33m.\u001b[0m\u001b[0meval\u001b[0m\u001b[1;33m(\u001b[0m\u001b[1;33m)\u001b[0m \u001b[1;33m*\u001b[0m \u001b[1;36m0.5\u001b[0m\u001b[1;33m)\u001b[0m\u001b[1;33m.\u001b[0m\u001b[0meval\u001b[0m\u001b[1;33m(\u001b[0m\u001b[1;33m)\u001b[0m\u001b[1;33m\u001b[0m\u001b[0m\n\u001b[0m\u001b[0;32m    180\u001b[0m \u001b[1;33m\u001b[0m\u001b[0m\n\u001b[0;32m    181\u001b[0m     \u001b[1;32mdef\u001b[0m \u001b[0mreset_klrw\u001b[0m\u001b[1;33m(\u001b[0m\u001b[0mself\u001b[0m\u001b[1;33m)\u001b[0m\u001b[1;33m:\u001b[0m\u001b[1;33m\u001b[0m\u001b[0m\n",
      "\u001b[1;32m/usr/local/lib/python2.7/dist-packages/tensorflow/python/framework/ops.pyc\u001b[0m in \u001b[0;36meval\u001b[1;34m(self, feed_dict, session)\u001b[0m\n\u001b[0;32m    557\u001b[0m \u001b[1;33m\u001b[0m\u001b[0m\n\u001b[0;32m    558\u001b[0m     \"\"\"\n\u001b[1;32m--> 559\u001b[1;33m     \u001b[1;32mreturn\u001b[0m \u001b[0m_eval_using_default_session\u001b[0m\u001b[1;33m(\u001b[0m\u001b[0mself\u001b[0m\u001b[1;33m,\u001b[0m \u001b[0mfeed_dict\u001b[0m\u001b[1;33m,\u001b[0m \u001b[0mself\u001b[0m\u001b[1;33m.\u001b[0m\u001b[0mgraph\u001b[0m\u001b[1;33m,\u001b[0m \u001b[0msession\u001b[0m\u001b[1;33m)\u001b[0m\u001b[1;33m\u001b[0m\u001b[0m\n\u001b[0m\u001b[0;32m    560\u001b[0m \u001b[1;33m\u001b[0m\u001b[0m\n\u001b[0;32m    561\u001b[0m \u001b[1;33m\u001b[0m\u001b[0m\n",
      "\u001b[1;32m/usr/local/lib/python2.7/dist-packages/tensorflow/python/framework/ops.pyc\u001b[0m in \u001b[0;36m_eval_using_default_session\u001b[1;34m(tensors, feed_dict, graph, session)\u001b[0m\n\u001b[0;32m   3654\u001b[0m                        \u001b[1;34m\"the tensor's graph is different from the session's \"\u001b[0m\u001b[1;33m\u001b[0m\u001b[0m\n\u001b[0;32m   3655\u001b[0m                        \"graph.\")\n\u001b[1;32m-> 3656\u001b[1;33m   \u001b[1;32mreturn\u001b[0m \u001b[0msession\u001b[0m\u001b[1;33m.\u001b[0m\u001b[0mrun\u001b[0m\u001b[1;33m(\u001b[0m\u001b[0mtensors\u001b[0m\u001b[1;33m,\u001b[0m \u001b[0mfeed_dict\u001b[0m\u001b[1;33m)\u001b[0m\u001b[1;33m\u001b[0m\u001b[0m\n\u001b[0m\u001b[0;32m   3657\u001b[0m \u001b[1;33m\u001b[0m\u001b[0m\n\u001b[0;32m   3658\u001b[0m \u001b[1;33m\u001b[0m\u001b[0m\n",
      "\u001b[1;32m/usr/local/lib/python2.7/dist-packages/tensorflow/python/client/session.pyc\u001b[0m in \u001b[0;36mrun\u001b[1;34m(self, fetches, feed_dict, options, run_metadata)\u001b[0m\n\u001b[0;32m    708\u001b[0m     \u001b[1;32mtry\u001b[0m\u001b[1;33m:\u001b[0m\u001b[1;33m\u001b[0m\u001b[0m\n\u001b[0;32m    709\u001b[0m       result = self._run(None, fetches, feed_dict, options_ptr,\n\u001b[1;32m--> 710\u001b[1;33m                          run_metadata_ptr)\n\u001b[0m\u001b[0;32m    711\u001b[0m       \u001b[1;32mif\u001b[0m \u001b[0mrun_metadata\u001b[0m\u001b[1;33m:\u001b[0m\u001b[1;33m\u001b[0m\u001b[0m\n\u001b[0;32m    712\u001b[0m         \u001b[0mproto_data\u001b[0m \u001b[1;33m=\u001b[0m \u001b[0mtf_session\u001b[0m\u001b[1;33m.\u001b[0m\u001b[0mTF_GetBuffer\u001b[0m\u001b[1;33m(\u001b[0m\u001b[0mrun_metadata_ptr\u001b[0m\u001b[1;33m)\u001b[0m\u001b[1;33m\u001b[0m\u001b[0m\n",
      "\u001b[1;32m/usr/local/lib/python2.7/dist-packages/tensorflow/python/client/session.pyc\u001b[0m in \u001b[0;36m_run\u001b[1;34m(self, handle, fetches, feed_dict, options, run_metadata)\u001b[0m\n\u001b[0;32m    906\u001b[0m     \u001b[1;32mif\u001b[0m \u001b[0mfinal_fetches\u001b[0m \u001b[1;32mor\u001b[0m \u001b[0mfinal_targets\u001b[0m\u001b[1;33m:\u001b[0m\u001b[1;33m\u001b[0m\u001b[0m\n\u001b[0;32m    907\u001b[0m       results = self._do_run(handle, final_targets, final_fetches,\n\u001b[1;32m--> 908\u001b[1;33m                              feed_dict_string, options, run_metadata)\n\u001b[0m\u001b[0;32m    909\u001b[0m     \u001b[1;32melse\u001b[0m\u001b[1;33m:\u001b[0m\u001b[1;33m\u001b[0m\u001b[0m\n\u001b[0;32m    910\u001b[0m       \u001b[0mresults\u001b[0m \u001b[1;33m=\u001b[0m \u001b[1;33m[\u001b[0m\u001b[1;33m]\u001b[0m\u001b[1;33m\u001b[0m\u001b[0m\n",
      "\u001b[1;32m/usr/local/lib/python2.7/dist-packages/tensorflow/python/client/session.pyc\u001b[0m in \u001b[0;36m_do_run\u001b[1;34m(self, handle, target_list, fetch_list, feed_dict, options, run_metadata)\u001b[0m\n\u001b[0;32m    956\u001b[0m     \u001b[1;32mif\u001b[0m \u001b[0mhandle\u001b[0m \u001b[1;32mis\u001b[0m \u001b[0mNone\u001b[0m\u001b[1;33m:\u001b[0m\u001b[1;33m\u001b[0m\u001b[0m\n\u001b[0;32m    957\u001b[0m       return self._do_call(_run_fn, self._session, feed_dict, fetch_list,\n\u001b[1;32m--> 958\u001b[1;33m                            target_list, options, run_metadata)\n\u001b[0m\u001b[0;32m    959\u001b[0m     \u001b[1;32melse\u001b[0m\u001b[1;33m:\u001b[0m\u001b[1;33m\u001b[0m\u001b[0m\n\u001b[0;32m    960\u001b[0m       return self._do_call(_prun_fn, self._session, handle, feed_dict,\n",
      "\u001b[1;32m/usr/local/lib/python2.7/dist-packages/tensorflow/python/client/session.pyc\u001b[0m in \u001b[0;36m_do_call\u001b[1;34m(self, fn, *args)\u001b[0m\n\u001b[0;32m    963\u001b[0m   \u001b[1;32mdef\u001b[0m \u001b[0m_do_call\u001b[0m\u001b[1;33m(\u001b[0m\u001b[0mself\u001b[0m\u001b[1;33m,\u001b[0m \u001b[0mfn\u001b[0m\u001b[1;33m,\u001b[0m \u001b[1;33m*\u001b[0m\u001b[0margs\u001b[0m\u001b[1;33m)\u001b[0m\u001b[1;33m:\u001b[0m\u001b[1;33m\u001b[0m\u001b[0m\n\u001b[0;32m    964\u001b[0m     \u001b[1;32mtry\u001b[0m\u001b[1;33m:\u001b[0m\u001b[1;33m\u001b[0m\u001b[0m\n\u001b[1;32m--> 965\u001b[1;33m       \u001b[1;32mreturn\u001b[0m \u001b[0mfn\u001b[0m\u001b[1;33m(\u001b[0m\u001b[1;33m*\u001b[0m\u001b[0margs\u001b[0m\u001b[1;33m)\u001b[0m\u001b[1;33m\u001b[0m\u001b[0m\n\u001b[0m\u001b[0;32m    966\u001b[0m     \u001b[1;32mexcept\u001b[0m \u001b[0merrors\u001b[0m\u001b[1;33m.\u001b[0m\u001b[0mOpError\u001b[0m \u001b[1;32mas\u001b[0m \u001b[0me\u001b[0m\u001b[1;33m:\u001b[0m\u001b[1;33m\u001b[0m\u001b[0m\n\u001b[0;32m    967\u001b[0m       \u001b[0mmessage\u001b[0m \u001b[1;33m=\u001b[0m \u001b[0mcompat\u001b[0m\u001b[1;33m.\u001b[0m\u001b[0mas_text\u001b[0m\u001b[1;33m(\u001b[0m\u001b[0me\u001b[0m\u001b[1;33m.\u001b[0m\u001b[0mmessage\u001b[0m\u001b[1;33m)\u001b[0m\u001b[1;33m\u001b[0m\u001b[0m\n",
      "\u001b[1;32m/usr/local/lib/python2.7/dist-packages/tensorflow/python/client/session.pyc\u001b[0m in \u001b[0;36m_run_fn\u001b[1;34m(session, feed_dict, fetch_list, target_list, options, run_metadata)\u001b[0m\n\u001b[0;32m    941\u001b[0m                 run_metadata):\n\u001b[0;32m    942\u001b[0m       \u001b[1;31m# Ensure any changes to the graph are reflected in the runtime.\u001b[0m\u001b[1;33m\u001b[0m\u001b[1;33m\u001b[0m\u001b[0m\n\u001b[1;32m--> 943\u001b[1;33m       \u001b[0mself\u001b[0m\u001b[1;33m.\u001b[0m\u001b[0m_extend_graph\u001b[0m\u001b[1;33m(\u001b[0m\u001b[1;33m)\u001b[0m\u001b[1;33m\u001b[0m\u001b[0m\n\u001b[0m\u001b[0;32m    944\u001b[0m       \u001b[1;32mwith\u001b[0m \u001b[0merrors\u001b[0m\u001b[1;33m.\u001b[0m\u001b[0mraise_exception_on_not_ok_status\u001b[0m\u001b[1;33m(\u001b[0m\u001b[1;33m)\u001b[0m \u001b[1;32mas\u001b[0m \u001b[0mstatus\u001b[0m\u001b[1;33m:\u001b[0m\u001b[1;33m\u001b[0m\u001b[0m\n\u001b[0;32m    945\u001b[0m         return tf_session.TF_Run(session, options,\n",
      "\u001b[1;32m/usr/local/lib/python2.7/dist-packages/tensorflow/python/client/session.pyc\u001b[0m in \u001b[0;36m_extend_graph\u001b[1;34m(self)\u001b[0m\n\u001b[0;32m    990\u001b[0m         \u001b[1;32mwith\u001b[0m \u001b[0merrors\u001b[0m\u001b[1;33m.\u001b[0m\u001b[0mraise_exception_on_not_ok_status\u001b[0m\u001b[1;33m(\u001b[0m\u001b[1;33m)\u001b[0m \u001b[1;32mas\u001b[0m \u001b[0mstatus\u001b[0m\u001b[1;33m:\u001b[0m\u001b[1;33m\u001b[0m\u001b[0m\n\u001b[0;32m    991\u001b[0m           tf_session.TF_ExtendGraph(\n\u001b[1;32m--> 992\u001b[1;33m               self._session, graph_def.SerializeToString(), status)\n\u001b[0m\u001b[0;32m    993\u001b[0m         \u001b[0mself\u001b[0m\u001b[1;33m.\u001b[0m\u001b[0m_opened\u001b[0m \u001b[1;33m=\u001b[0m \u001b[0mTrue\u001b[0m\u001b[1;33m\u001b[0m\u001b[0m\n\u001b[0;32m    994\u001b[0m \u001b[1;33m\u001b[0m\u001b[0m\n",
      "\u001b[1;31mKeyboardInterrupt\u001b[0m: "
     ]
    }
   ],
   "source": [
    "sess.run(tf.initialize_all_variables())\n",
    "\n",
    "n_epochs = 100\n",
    "n_batches = len(t_train) / batch_size\n",
    "\n",
    "fs = list()\n",
    "qs = list()\n",
    "ps = list()\n",
    "ls = list()\n",
    "taccs = list()\n",
    "vaccs = list()\n",
    "for ep in range(n_epochs):\n",
    "    bnn.reset_klrw()\n",
    "    \n",
    "    for i in range(n_batches):\n",
    "        bnn.decay_klrw()\n",
    "#         if (i+1) % 20 == 0:\n",
    "#             print(\"klrw index : %g\"%(bnn.get_klrw()))\n",
    "        \n",
    "        feed = {bnn.x: x_train[i*batch_size:(i+1)*batch_size], \\\n",
    "                bnn.t: t_train[i*batch_size:(i+1)*batch_size]}\n",
    "\n",
    "        \n",
    "        v_f, v_q, v_p, v_l = bnn.get_fqpl(feed)\n",
    "        fs.append(v_f), qs.append(v_q), ps.append(v_p), ls.append(v_l)\n",
    "        \n",
    "#         if i > 50 and np.mean(fs[-50:-25]) < np.mean(fs[-25:]):\n",
    "#             bnn.decay_lr()\n",
    "#             print (\"--- learning rate decayed : %g ---\"%(bnn.get_lr()))\n",
    "\n",
    "        if i%50 == 0:\n",
    "            train_accuracy = bnn.validate(feed)\n",
    "\n",
    "            print(\"ep %d, step %d, training accuracy %g\"%(ep, i, train_accuracy))\n",
    "            print(\"f : {}, q : {}, p : {}, l : {}\".format(v_f, v_q, v_p, v_l))\n",
    "            #print v_q - v_p + v_l\n",
    "\n",
    "        bnn.train(feed)\n",
    "    \n",
    "    vacc = bnn.validate({bnn.x: x_valid, bnn.t: t_valid})\n",
    "    vaccs.append(vacc)\n",
    "    taccs.append(train_accuracy)\n",
    "    print(\"valid accuracy %g\"%vacc)\n",
    "    \n",
    "    if ep > 10 and np.mean(vaccs[-10:-5]) < np.mean(vaccs[-5:]):\n",
    "        bnn.decay_lr()\n",
    "        print (\"--- learning rate decayed : %g ---\"%(bnn.get_lr()))\n",
    "    \n",
    "\n"
   ]
  },
  {
   "cell_type": "code",
   "execution_count": 8,
   "metadata": {
    "collapsed": false
   },
   "outputs": [
    {
     "data": {
      "image/png": "[encoded data removed]",
      "text/plain": [
       "<matplotlib.figure.Figure at 0x7f449a7b5a50>"
      ]
     },
     "metadata": {},
     "output_type": "display_data"
    }
   ],
   "source": [
    "coeff_klrw = 1 / n_batches\n",
    "\n",
    "plt.plot(fs, 'r')\n",
    "plt.plot(qs*coeff_klrw, 'b')\n",
    "plt.plot(ps*coeff_klrw, 'g')\n",
    "plt.plot(ls, 'k')\n",
    "\n",
    "# plt.plot(fs[0:22], 'r')\n",
    "# plt.plot(qs[0:22], 'b')\n",
    "# plt.plot(ps[0:22], 'g')\n",
    "# plt.plot(ls[0:22], 'k')\n",
    "\n",
    "\n",
    "plt.legend(['f', 'q', 'p', 'l'])\n",
    "plt.show()"
   ]
  },
  {
   "cell_type": "code",
   "execution_count": 9,
   "metadata": {
    "collapsed": false
   },
   "outputs": [
    {
     "data": {
      "image/png": "[encoded data removed]",
      "text/plain": [
       "<matplotlib.figure.Figure at 0x7f449a7978d0>"
      ]
     },
     "metadata": {},
     "output_type": "display_data"
    }
   ],
   "source": [
    "plt.plot(taccs, 'b')\n",
    "plt.plot(vaccs, 'r')\n",
    "\n",
    "plt.legend(['train_acc', 'valid_acc'])\n",
    "plt.show()"
   ]
  },
  {
   "cell_type": "markdown",
   "metadata": {},
   "source": [
    "# Online version"
   ]
  },
  {
   "cell_type": "code",
   "execution_count": 6,
   "metadata": {
    "collapsed": false
   },
   "outputs": [
    {
     "name": "stdout",
     "output_type": "stream",
     "text": [
      "layer done\n",
      "layer done\n",
      "(10, ?, 10)\n"
     ]
    }
   ],
   "source": [
    "#bnn = bnn_model(shape, mu = 0.1, rho = 0.1, n_samples = 10, outact = tf.sigmoid, seed = 1234, lr = 1e-8)\n",
    "bnn = bnn_model([784, 50, 10], size_data = len(t_train), size_batch = batch_size, \\\n",
    "                mu = 0.02, rho = -2, n_samples = 10, outact = tf.sigmoid, seed = 1234, \\\n",
    "                lr = 1e-3, kl_reweight = False)"
   ]
  },
  {
   "cell_type": "code",
   "execution_count": null,
   "metadata": {
    "collapsed": false
   },
   "outputs": [
    {
     "name": "stdout",
     "output_type": "stream",
     "text": [
      "batch 0, ep 0, training accuracy 0.075\n",
      "f : 403935.5, q : -331521.4375, p : -710065.3125, l : 20896.6640625\n",
      "batch 0, ep 50, training accuracy 0.06\n",
      "f : 332692.90625, q : -333337.46875, p : -657624.0, l : 8144.63378906\n",
      "batch 0, ep 100, training accuracy 0.145\n",
      "f : 286573.625, q : -329683.0625, p : -608137.75, l : 6041.01220703\n",
      "batch 0, ep 150, training accuracy 0.105\n",
      "f : 251390.15625, q : -321569.15625, p : -567740.8125, l : 5689.74169922\n",
      "valid accuracy 0.1075\n",
      "batch 1, ep 0, training accuracy 0.14\n",
      "f : 227095.953125, q : -313319.4375, p : -535061.125, l : 5410.35644531\n",
      "batch 1, ep 50, training accuracy 0.165\n",
      "f : 209846.359375, q : -303758.65625, p : -509538.4375, l : 5385.74365234\n",
      "batch 1, ep 100, training accuracy 0.19\n",
      "f : 199473.625, q : -293857.5625, p : -486808.625, l : 5323.47998047\n",
      "batch 1, ep 150, training accuracy 0.075\n",
      "f : 190174.71875, q : -285035.25, p : -471502.4375, l : 5441.43066406\n",
      "valid accuracy 0.1026\n",
      "batch 2, ep 0, training accuracy 0.105\n",
      "f : 183828.328125, q : -275661.15625, p : -454294.3125, l : 5312.2890625\n",
      "batch 2, ep 50, training accuracy 0.135\n",
      "f : 177684.8125, q : -268070.9375, p : -440221.8125, l : 5407.12988281\n",
      "batch 2, ep 100, training accuracy 0.14\n",
      "f : 172588.6875, q : -261032.09375, p : -427956.3125, l : 5563.99707031\n",
      "batch 2, ep 150, training accuracy 0.125\n",
      "f : 168250.8125, q : -254341.171875, p : -417426.6875, l : 5345.48632812\n",
      "valid accuracy 0.1242\n",
      "batch 3, ep 0, training accuracy 0.12\n",
      "f : 164483.0625, q : -248652.0625, p : -408072.75, l : 5350.66894531\n",
      "batch 3, ep 50, training accuracy 0.17\n",
      "f : 160968.0, q : -243812.75, p : -400151.5, l : 5386.34814453\n",
      "batch 3, ep 100, training accuracy 0.13\n",
      "f : 158712.828125, q : -238388.28125, p : -392627.375, l : 5368.50878906\n",
      "batch 3, ep 150, training accuracy 0.125\n",
      "f : 155228.140625, q : -234611.21875, p : -385704.5625, l : 5356.14453125\n",
      "valid accuracy 0.135\n",
      "batch 4, ep 0, training accuracy 0.125\n",
      "f : 153566.890625, q : -231644.4375, p : -380002.5625, l : 5466.92675781\n",
      "batch 4, ep 50, training accuracy 0.135\n",
      "f : 151239.703125, q : -228304.84375, p : -374112.1875, l : 5315.55126953\n",
      "batch 4, ep 100, training accuracy 0.175\n",
      "f : 149146.859375, q : -225418.90625, p : -369767.75, l : 5233.01855469\n",
      "batch 4, ep 150, training accuracy 0.205\n",
      "f : 147596.234375, q : -223524.4375, p : -365457.0, l : 5206.76611328\n",
      "valid accuracy 0.146\n",
      "batch 5, ep 0, training accuracy 0.125\n",
      "f : 146068.46875, q : -220529.34375, p : -361465.6875, l : 5352.41162109\n",
      "batch 5, ep 50, training accuracy 0.195\n",
      "f : 144005.578125, q : -218382.4375, p : -358296.25, l : 5341.91357422\n",
      "batch 5, ep 100, training accuracy 0.235\n",
      "f : 143187.515625, q : -216603.5, p : -355316.4375, l : 5295.39013672\n",
      "batch 5, ep 150, training accuracy 0.125\n",
      "f : 142103.359375, q : -215066.03125, p : -352595.4375, l : 5144.5\n",
      "valid accuracy 0.1917\n",
      "batch 6, ep 0, training accuracy 0.135\n",
      "f : 141105.84375, q : -213726.46875, p : -348370.3125, l : 5221.38916016\n",
      "batch 6, ep 50, training accuracy 0.07\n",
      "f : 139174.375, q : -211683.90625, p : -346090.0625, l : 5371.73779297\n",
      "batch 6, ep 100, training accuracy 0.12\n",
      "f : 138417.609375, q : -210671.796875, p : -343808.875, l : 5266.61083984\n",
      "batch 6, ep 150, training accuracy 0.21\n",
      "f : 137662.890625, q : -209577.640625, p : -341439.125, l : 5267.61572266\n",
      "valid accuracy 0.1177\n",
      "batch 7, ep 0, training accuracy 0.115\n",
      "f : 136730.375, q : -208224.53125, p : -339493.9375, l : 5221.46972656\n",
      "batch 7, ep 50, training accuracy 0.145\n",
      "f : 135515.609375, q : -206746.0, p : -337460.625, l : 5255.00732422\n",
      "batch 7, ep 100, training accuracy 0.115\n",
      "f : 135049.5, q : -205990.015625, p : -335728.6875, l : 5192.54394531\n",
      "batch 7, ep 150, training accuracy 0.12\n",
      "f : 134850.34375, q : -206296.96875, p : -335037.71875, l : 5584.26220703\n",
      "valid accuracy 0.1104\n",
      "batch 8, ep 0, training accuracy 0.14\n",
      "f : 133764.375, q : -204814.625, p : -334077.875, l : 5443.92333984\n",
      "batch 8, ep 50, training accuracy 0.165\n",
      "f : 133056.96875, q : -203840.125, p : -332057.4375, l : 5370.61425781\n",
      "batch 8, ep 100, training accuracy 0.25\n",
      "f : 132352.0625, q : -203323.546875, p : -330610.375, l : 5236.94042969\n",
      "batch 8, ep 150, training accuracy 0.25\n",
      "f : 132081.21875, q : -202327.546875, p : -328742.03125, l : 5298.45361328\n",
      "valid accuracy 0.1888\n",
      "batch 9, ep 0, training accuracy 0.215\n",
      "f : 131819.53125, q : -202024.828125, p : -327741.53125, l : 5138.31005859\n",
      "batch 9, ep 50, training accuracy 0.135\n",
      "f : 131444.953125, q : -201584.09375, p : -326631.75, l : 5092.19824219\n",
      "batch 9, ep 100, training accuracy 0.22\n",
      "f : 130754.546875, q : -200825.71875, p : -326497.4375, l : 5108.83935547\n",
      "batch 9, ep 150, training accuracy 0.18\n",
      "f : 130242.007812, q : -200113.703125, p : -325876.46875, l : 5212.44335938\n",
      "valid accuracy 0.1386\n",
      "batch 10, ep 0, training accuracy 0.165\n",
      "f : 129695.609375, q : -200418.765625, p : -324034.6875, l : 5272.78222656\n",
      "batch 10, ep 50, training accuracy 0.165\n",
      "f : 129212.914062, q : -199254.4375, p : -322883.5, l : 5297.40917969\n",
      "batch 10, ep 100, training accuracy 0.21\n",
      "f : 129001.65625, q : -198616.375, p : -322547.75, l : 4991.05957031\n",
      "batch 10, ep 150, training accuracy 0.35\n",
      "f : 128461.71875, q : -198505.03125, p : -321604.0625, l : 4904.15771484\n",
      "valid accuracy 0.224\n",
      "batch 11, ep 0, training accuracy 0.185\n",
      "f : 128303.601562, q : -198109.328125, p : -321472.09375, l : 5157.00488281\n",
      "batch 11, ep 50, training accuracy 0.15\n",
      "f : 128176.453125, q : -198171.1875, p : -320663.5625, l : 4986.49316406\n",
      "batch 11, ep 100, training accuracy 0.25\n",
      "f : 127934.265625, q : -197789.96875, p : -320357.875, l : 5045.78662109\n",
      "batch 11, ep 150, training accuracy 0.24\n",
      "f : 127468.578125, q : -197579.625, p : -320103.125, l : 5132.90234375\n",
      "valid accuracy 0.1906\n",
      "batch 12, ep 0, training accuracy 0.215\n",
      "f : 128159.554688, q : -196908.21875, p : -320884.90625, l : 5075.85693359\n",
      "batch 12, ep 50, training accuracy 0.295\n",
      "f : 127853.890625, q : -196942.625, p : -319672.15625, l : 5037.49511719\n",
      "batch 12, ep 100, training accuracy 0.285\n",
      "f : 127129.757812, q : -197429.765625, p : -319765.3125, l : 5102.70019531\n",
      "batch 12, ep 150, training accuracy 0.195\n",
      "f : 126375.8125, q : -196865.46875, p : -318296.25, l : 5027.97802734\n",
      "valid accuracy 0.2612\n",
      "batch 13, ep 0, training accuracy 0.265\n",
      "f : 126399.710938, q : -197199.328125, p : -318790.9375, l : 5226.91992188\n",
      "batch 13, ep 50, training accuracy 0.29\n",
      "f : 126165.664062, q : -196453.90625, p : -318409.625, l : 4784.66015625\n",
      "batch 13, ep 100, training accuracy 0.31\n",
      "f : 126536.359375, q : -196607.5625, p : -317973.03125, l : 4804.37792969\n",
      "batch 13, ep 150, training accuracy 0.265\n",
      "f : 125123.03125, q : -195820.421875, p : -316842.4375, l : 4903.70068359\n",
      "valid accuracy 0.2435\n",
      "batch 14, ep 0, training accuracy 0.19\n",
      "f : 125133.53125, q : -196265.75, p : -316702.53125, l : 4661.59619141\n",
      "batch 14, ep 50, training accuracy 0.33\n",
      "f : 125693.867188, q : -196295.59375, p : -317530.59375, l : 4801.671875\n",
      "batch 14, ep 100, training accuracy 0.375\n",
      "f : 125789.257812, q : -196436.09375, p : -315407.875, l : 4619.74707031\n",
      "batch 14, ep 150, training accuracy 0.27\n",
      "f : 125351.484375, q : -195463.953125, p : -315898.5, l : 4700.74902344\n",
      "valid accuracy 0.3529\n",
      "batch 15, ep 0, training accuracy 0.25\n",
      "f : 124954.3125, q : -195916.234375, p : -315527.15625, l : 4950.63574219\n",
      "batch 15, ep 50, training accuracy 0.285\n",
      "f : 124453.953125, q : -196002.296875, p : -316059.90625, l : 4874.17041016\n",
      "batch 15, ep 100, training accuracy 0.315\n",
      "f : 124275.8125, q : -195025.3125, p : -314898.46875, l : 4665.96582031\n",
      "batch 15, ep 150, training accuracy 0.375\n",
      "f : 124157.234375, q : -195285.90625, p : -314492.09375, l : 4418.32910156\n",
      "valid accuracy 0.3308\n",
      "batch 16, ep 0, training accuracy 0.275\n",
      "f : 124360.570312, q : -195184.4375, p : -314655.0, l : 4849.39648438\n",
      "batch 16, ep 50, training accuracy 0.335\n",
      "f : 124440.179688, q : -195394.28125, p : -313628.5625, l : 4454.39355469\n",
      "batch 16, ep 100, training accuracy 0.335\n",
      "f : 123812.851562, q : -194956.015625, p : -314157.125, l : 4402.26806641\n",
      "batch 16, ep 150, training accuracy 0.28\n",
      "f : 122858.8125, q : -194985.03125, p : -313721.0625, l : 4272.33789062\n",
      "valid accuracy 0.2711\n",
      "batch 17, ep 0, training accuracy 0.285\n",
      "f : 123498.273438, q : -195080.390625, p : -312843.0, l : 4499.24072266\n",
      "batch 17, ep 50, training accuracy 0.405\n",
      "f : 124125.304688, q : -193664.1875, p : -314634.3125, l : 4611.72265625\n",
      "batch 17, ep 100, training accuracy 0.36\n",
      "f : 122767.640625, q : -194716.34375, p : -312982.6875, l : 4359.65283203\n",
      "batch 17, ep 150, training accuracy 0.385\n",
      "f : 123348.273438, q : -194660.296875, p : -313563.8125, l : 4377.10009766\n",
      "valid accuracy 0.336\n",
      "batch 18, ep 0, training accuracy 0.405\n",
      "f : 123688.09375, q : -194563.8125, p : -313459.53125, l : 4536.39404297\n",
      "batch 18, ep 50, training accuracy 0.335\n",
      "f : 123939.890625, q : -194176.109375, p : -313938.125, l : 4346.02294922\n",
      "batch 18, ep 100, training accuracy 0.325\n",
      "f : 123040.171875, q : -193876.09375, p : -312522.3125, l : 4409.08886719\n",
      "batch 18, ep 150, training accuracy 0.35\n",
      "f : 122547.21875, q : -195110.5, p : -312048.65625, l : 4414.9765625\n",
      "valid accuracy 0.3143\n",
      "batch 19, ep 0, training accuracy 0.305\n",
      "f : 122701.65625, q : -194404.71875, p : -311915.53125, l : 4447.34179688\n",
      "batch 19, ep 50, training accuracy 0.34\n",
      "f : 123667.359375, q : -194124.96875, p : -312878.375, l : 4330.36669922\n",
      "batch 19, ep 100, training accuracy 0.31\n",
      "f : 122874.492188, q : -194983.65625, p : -313400.0625, l : 4239.02197266\n",
      "batch 19, ep 150, training accuracy 0.335\n",
      "f : 121846.476562, q : -194888.46875, p : -312633.25, l : 4260.47509766\n",
      "valid accuracy 0.291\n",
      "batch 20, ep 0, training accuracy 0.345\n",
      "f : 122599.273438, q : -194643.90625, p : -312498.125, l : 4416.83105469\n",
      "batch 20, ep 50, training accuracy 0.36\n",
      "f : 122375.539062, q : -194097.125, p : -313233.8125, l : 4154.55664062\n",
      "batch 20, ep 100, training accuracy 0.405\n",
      "f : 122972.460938, q : -194469.265625, p : -312830.78125, l : 4053.79858398\n",
      "batch 20, ep 150, training accuracy 0.32\n",
      "f : 122911.125, q : -193890.75, p : -312192.78125, l : 4370.54980469\n",
      "valid accuracy 0.2679\n",
      "batch 21, ep 0, training accuracy 0.335\n",
      "f : 123421.53125, q : -194968.875, p : -313747.5625, l : 4349.68212891\n",
      "batch 21, ep 50, training accuracy 0.39\n",
      "f : 122654.359375, q : -194901.671875, p : -313265.34375, l : 4108.00341797\n",
      "batch 21, ep 100, training accuracy 0.37\n",
      "f : 122629.328125, q : -193739.875, p : -312758.84375, l : 3897.13989258\n",
      "batch 21, ep 150, training accuracy 0.49\n",
      "f : 122523.007812, q : -194538.828125, p : -312623.96875, l : 4132.5859375\n",
      "valid accuracy 0.3301\n",
      "batch 22, ep 0, training accuracy 0.31\n",
      "f : 123204.0625, q : -194536.140625, p : -312779.5625, l : 4349.36083984\n",
      "batch 22, ep 50, training accuracy 0.44\n",
      "f : 122440.625, q : -195148.09375, p : -312760.4375, l : 4020.34106445\n",
      "batch 22, ep 100, training accuracy 0.38\n",
      "f : 121469.742188, q : -195142.859375, p : -312086.4375, l : 4108.45458984\n",
      "batch 22, ep 150, training accuracy 0.4\n",
      "f : 121436.109375, q : -194816.375, p : -311845.09375, l : 3961.91308594\n",
      "valid accuracy 0.3709\n",
      "batch 23, ep 0, training accuracy 0.41\n",
      "f : 121834.859375, q : -194406.25, p : -311999.625, l : 4308.23828125\n",
      "batch 23, ep 50, training accuracy 0.38\n",
      "f : 122436.179688, q : -194061.03125, p : -312931.9375, l : 4161.07470703\n",
      "batch 23, ep 100, training accuracy 0.43\n",
      "f : 122334.703125, q : -194591.109375, p : -312447.4375, l : 4072.14892578\n",
      "batch 23, ep 150, training accuracy 0.4\n",
      "f : 121595.085938, q : -193855.90625, p : -311674.5, l : 4118.36767578\n",
      "valid accuracy 0.3808\n",
      "batch 24, ep 0, training accuracy 0.375\n",
      "f : 121277.101562, q : -194571.5625, p : -312363.625, l : 4083.01098633\n",
      "batch 24, ep 50, training accuracy 0.42\n",
      "f : 121801.304688, q : -194867.71875, p : -312403.6875, l : 4182.48632812\n",
      "batch 24, ep 100, training accuracy 0.46\n",
      "f : 122087.453125, q : -194905.9375, p : -312329.46875, l : 3963.88867188\n",
      "batch 24, ep 150, training accuracy 0.44\n",
      "f : 121895.921875, q : -193985.25, p : -312566.1875, l : 3977.77612305\n",
      "valid accuracy 0.3507\n",
      "batch 25, ep 0, training accuracy 0.385\n",
      "f : 121632.296875, q : -194318.0, p : -311732.125, l : 4506.29980469\n",
      "batch 25, ep 50, training accuracy 0.435\n",
      "f : 122246.46875, q : -193413.984375, p : -313468.3125, l : 3990.27392578\n",
      "batch 25, ep 100, training accuracy 0.385\n",
      "f : 121470.15625, q : -195058.703125, p : -312160.25, l : 4013.89526367\n",
      "batch 25, ep 150, training accuracy 0.45\n",
      "f : 121132.609375, q : -194681.78125, p : -311371.1875, l : 3891.47070312\n",
      "valid accuracy 0.4119\n",
      "batch 26, ep 0, training accuracy 0.39\n",
      "f : 121370.148438, q : -194124.375, p : -311251.1875, l : 4278.80126953\n",
      "batch 26, ep 50, training accuracy 0.44\n",
      "f : 122021.609375, q : -194098.125, p : -312396.875, l : 4113.08984375\n",
      "batch 26, ep 100, training accuracy 0.425\n",
      "f : 121778.351562, q : -194408.09375, p : -311204.5625, l : 4156.07226562\n",
      "batch 26, ep 150, training accuracy 0.46\n",
      "f : 121670.0, q : -194816.90625, p : -311877.71875, l : 3996.80273438\n",
      "valid accuracy 0.3842\n",
      "batch 27, ep 0, training accuracy 0.38\n",
      "f : 121614.03125, q : -194809.0625, p : -312419.9375, l : 4095.9765625\n",
      "batch 27, ep 50, training accuracy 0.34\n",
      "f : 121065.007812, q : -194009.203125, p : -312641.6875, l : 4106.92138672\n",
      "batch 27, ep 100, training accuracy 0.365\n",
      "f : 120694.398438, q : -192903.0625, p : -311337.9375, l : 3928.26049805\n",
      "batch 27, ep 150, training accuracy 0.47\n",
      "f : 120559.117188, q : -194254.84375, p : -311713.78125, l : 3845.76269531\n",
      "valid accuracy 0.3957\n",
      "batch 28, ep 0, training accuracy 0.39\n",
      "f : 121430.117188, q : -195378.46875, p : -311192.4375, l : 4130.6015625\n",
      "batch 28, ep 50, training accuracy 0.37\n",
      "f : 121306.445312, q : -194691.109375, p : -312179.125, l : 3956.95727539\n",
      "batch 28, ep 100, training accuracy 0.4\n",
      "f : 120920.757812, q : -194775.1875, p : -311640.71875, l : 3823.04296875\n",
      "batch 28, ep 150, training accuracy 0.405\n",
      "f : 121386.445312, q : -194885.265625, p : -311715.4375, l : 3790.49829102\n",
      "valid accuracy 0.4126\n",
      "batch 29, ep 0, training accuracy 0.355\n",
      "f : 121342.65625, q : -194756.6875, p : -312993.875, l : 4117.63671875\n",
      "batch 29, ep 50, training accuracy 0.385\n",
      "f : 121179.890625, q : -194848.234375, p : -311232.875, l : 4085.96289062\n",
      "batch 29, ep 100, training accuracy 0.375\n",
      "f : 121434.9375, q : -195230.125, p : -312093.875, l : 3899.66186523\n",
      "batch 29, ep 150, training accuracy 0.43\n",
      "f : 120584.671875, q : -195414.828125, p : -311714.875, l : 3920.76123047\n",
      "valid accuracy 0.3414\n",
      "batch 30, ep 0, training accuracy 0.415\n",
      "f : 120819.929688, q : -195788.90625, p : -310925.0, l : 4041.20654297\n",
      "batch 30, ep 50, training accuracy 0.455\n",
      "f : 121128.359375, q : -194708.875, p : -311552.65625, l : 3972.83691406\n",
      "batch 30, ep 100, training accuracy 0.385\n",
      "f : 120520.046875, q : -195588.25, p : -311225.03125, l : 3757.7890625\n",
      "batch 30, ep 150, training accuracy 0.375\n",
      "f : 120418.085938, q : -194781.890625, p : -311258.4375, l : 3775.30664062\n",
      "valid accuracy 0.4103\n",
      "batch 31, ep 0, training accuracy 0.38\n",
      "f : 120231.96875, q : -194581.25, p : -311745.09375, l : 3846.81884766\n",
      "batch 31, ep 50, training accuracy 0.415\n",
      "f : 120770.882812, q : -195210.0, p : -312029.53125, l : 3809.69433594\n",
      "batch 31, ep 100, training accuracy 0.45\n",
      "f : 120256.539062, q : -195016.75, p : -310901.125, l : 3606.38916016\n",
      "batch 31, ep 150, training accuracy 0.435\n",
      "f : 119688.617188, q : -194652.46875, p : -311276.34375, l : 3696.29223633\n",
      "valid accuracy 0.4193\n",
      "batch 32, ep 0, training accuracy 0.435\n",
      "f : 120718.773438, q : -195466.90625, p : -311293.5625, l : 3999.47119141\n",
      "batch 32, ep 50, training accuracy 0.425\n",
      "f : 120474.84375, q : -194877.28125, p : -310500.1875, l : 3750.87890625\n",
      "batch 32, ep 100, training accuracy 0.4\n",
      "f : 120240.929688, q : -194856.703125, p : -310886.65625, l : 3638.39013672\n",
      "batch 32, ep 150, training accuracy 0.52\n",
      "f : 120217.453125, q : -195298.1875, p : -311564.5625, l : 3804.12573242\n",
      "valid accuracy 0.3734\n",
      "batch 33, ep 0, training accuracy 0.4\n",
      "f : 119972.429688, q : -194116.8125, p : -311165.375, l : 3620.38964844\n",
      "batch 33, ep 50, training accuracy 0.43\n",
      "f : 120174.515625, q : -195235.25, p : -312620.28125, l : 3532.39453125\n",
      "batch 33, ep 100, training accuracy 0.375\n",
      "f : 120374.632812, q : -194487.6875, p : -311581.0625, l : 3440.34667969\n",
      "batch 33, ep 150, training accuracy 0.545"
     ]
    }
   ],
   "source": [
    "sess.run(tf.initialize_all_variables())\n",
    "\n",
    "n_epochs = 200\n",
    "n_batches = len(t_train) / batch_size\n",
    "\n",
    "fs = list()\n",
    "qs = list()\n",
    "ps = list()\n",
    "ls = list()\n",
    "taccs = list()\n",
    "vaccs = list()\n",
    "for i in range(n_batches):\n",
    "    \n",
    "    bnn.reset_lr()\n",
    "    \n",
    "    for ep in range(n_epochs):\n",
    "        \n",
    "        feed = {bnn.x: x_train[i*batch_size:(i+1)*batch_size], \\\n",
    "                bnn.t: t_train[i*batch_size:(i+1)*batch_size]}\n",
    "        \n",
    "        v_f, v_q, v_p, v_l = bnn.get_fqpl(feed)\n",
    "        fs.append(v_f), qs.append(v_q), ps.append(v_p), ls.append(v_l)\n",
    "\n",
    "        if ep > 50 and np.mean(fs[-50:-25]) < np.mean(fs[-25:]):\n",
    "            last_lr = bnn.get_lr()\n",
    "            bnn.decay_lr()\n",
    "            #print(\"=== learning rate decayed ===\")\n",
    "            if bnn.get_lr == last_lr:\n",
    "                print(\"=== cannot decay more. stop learning this batch ===\")\n",
    "                break\n",
    "            #print (\"--- learning rate decayed ---\")\n",
    "            #print bnn.get_lr()\n",
    "\n",
    "        if ep % 50 == 0:\n",
    "            train_accuracy = bnn.validate(feed)\n",
    "\n",
    "            print(\"batch %d, ep %d, training accuracy %g\"%(i, ep, train_accuracy))\n",
    "            print(\"f : {}, q : {}, p : {}, l : {}\".format(v_f, v_q, v_p, v_l))\n",
    "\n",
    "        bnn.train(feed)\n",
    "        \n",
    "    vacc = bnn.validate({bnn.x: x_valid, bnn.t: t_valid})\n",
    "    vaccs.append(vacc)\n",
    "    taccs.append(train_accuracy)\n",
    "    print(\"valid accuracy %g\"%vacc)\n",
    "    \n",
    "#     if i > 10 and np.mean(vaccs[-10:-5]) < np.mean(vaccs[-5:]):\n",
    "#         bnn.decay_lr()\n",
    "    \n",
    "    bnn.update_prior()\n",
    "    \n",
    "\n"
   ]
  },
  {
   "cell_type": "code",
   "execution_count": null,
   "metadata": {
    "collapsed": false,
    "scrolled": true
   },
   "outputs": [],
   "source": [
    "plt.plot(fs, 'r')\n",
    "plt.plot(qs, 'b')\n",
    "plt.plot(ps, 'g')\n",
    "plt.plot(ls, 'k')\n",
    "\n",
    "# plt.plot(fs[0:22], 'r')\n",
    "# plt.plot(qs[0:22], 'b')\n",
    "# plt.plot(ps[0:22], 'g')\n",
    "# plt.plot(ls[0:22], 'k')\n",
    "\n",
    "plt.legend(['f', 'q', 'p', 'l'])\n",
    "plt.show()"
   ]
  },
  {
   "cell_type": "code",
   "execution_count": null,
   "metadata": {
    "collapsed": false
   },
   "outputs": [],
   "source": [
    "plt.plot(taccs, 'b')\n",
    "plt.plot(vaccs, 'r')\n",
    "\n",
    "plt.legend(['train_acc', 'valid_acc'])\n",
    "plt.show()"
   ]
  },
  {
   "cell_type": "markdown",
   "metadata": {},
   "source": [
    "# codes used for testing stuff"
   ]
  },
  {
   "cell_type": "code",
   "execution_count": 20,
   "metadata": {
    "collapsed": true
   },
   "outputs": [],
   "source": [
    "a = tf.range(300)\n",
    "aa = tf.reshape(a, [30, 10])\n",
    "aaa = tf.tile(tf.expand_dims(aa, 0), [10, 1, 1])\n",
    "\n",
    "b = tf.truncated_normal([30, 10], stddev = 0.2)\n",
    "\n",
    "argmaxbs = tf.argmax(b, 1)"
   ]
  },
  {
   "cell_type": "code",
   "execution_count": 21,
   "metadata": {
    "collapsed": false
   },
   "outputs": [
    {
     "data": {
      "text/plain": [
       "TensorShape([Dimension(30), Dimension(10)])"
      ]
     },
     "execution_count": 21,
     "metadata": {},
     "output_type": "execute_result"
    }
   ],
   "source": [
    "b.get_shape()"
   ]
  },
  {
   "cell_type": "code",
   "execution_count": 22,
   "metadata": {
    "collapsed": true
   },
   "outputs": [],
   "source": [
    "sess.run(tf.initialize_all_variables())"
   ]
  },
  {
   "cell_type": "code",
   "execution_count": 23,
   "metadata": {
    "collapsed": false
   },
   "outputs": [
    {
     "data": {
      "text/plain": [
       "array([  0,   1,   2, ..., 297, 298, 299], dtype=int32)"
      ]
     },
     "execution_count": 23,
     "metadata": {},
     "output_type": "execute_result"
    }
   ],
   "source": [
    "tf.reshape(aaa, [-1]).eval()"
   ]
  },
  {
   "cell_type": "code",
   "execution_count": 26,
   "metadata": {
    "collapsed": false
   },
   "outputs": [
    {
     "name": "stdout",
     "output_type": "stream",
     "text": [
      "[  5  11  27  32  43  57  63  76  84  97 105 118 123 138 142 158 164 172\n",
      " 182 193 201 215 227 237 248 258 261 271 281 298   5  11  27  32  43  57\n",
      "  63  76  84  97 105 118 123 138 142 158 164 172 182 193 201 215 227 237\n",
      " 248 258 261 271 281 298   5  11  27  32  43  57  63  76  84  97 105 118\n",
      " 123 138 142 158 164 172 182 193 201 215 227 237 248 258 261 271 281 298\n",
      "   5  11  27  32  43  57  63  76  84  97 105 118 123 138 142 158 164 172\n",
      " 182 193 201 215 227 237 248 258 261 271 281 298   5  11  27  32  43  57\n",
      "  63  76  84  97 105 118 123 138 142 158 164 172 182 193 201 215 227 237\n",
      " 248 258 261 271 281 298   5  11  27  32  43  57  63  76  84  97 105 118\n",
      " 123 138 142 158 164 172 182 193 201 215 227 237 248 258 261 271 281 298\n",
      "   5  11  27  32  43  57  63  76  84  97 105 118 123 138 142 158 164 172\n",
      " 182 193 201 215 227 237 248 258 261 271 281 298   5  11  27  32  43  57\n",
      "  63  76  84  97 105 118 123 138 142 158 164 172 182 193 201 215 227 237\n",
      " 248 258 261 271 281 298   5  11  27  32  43  57  63  76  84  97 105 118\n",
      " 123 138 142 158 164 172 182 193 201 215 227 237 248 258 261 271 281 298\n",
      "   5  11  27  32  43  57  63  76  84  97 105 118 123 138 142 158 164 172\n",
      " 182 193 201 215 227 237 248 258 261 271 281 298]\n",
      "(300,)\n"
     ]
    },
    {
     "data": {
      "text/plain": [
       "array([3, 2, 5, 3, 8, 6, 1, 0, 7, 0, 3, 7, 8, 0, 4, 5, 8, 8, 0, 2, 6, 7, 7,\n",
       "       0, 3, 7, 8, 3, 8, 0])"
      ]
     },
     "execution_count": 26,
     "metadata": {},
     "output_type": "execute_result"
    }
   ],
   "source": [
    "ar = tf.range(30).eval()\n",
    "br = ar * 10 + argmaxbs.eval()\n",
    "cr = tf.tile(br, [10])\n",
    "\n",
    "result = tf.gather(tf.reshape(aaa, [-1]), cr).eval()\n",
    "print result\n",
    "print result.shape\n",
    "argmaxbs.eval()\n",
    "\n"
   ]
  },
  {
   "cell_type": "code",
   "execution_count": 11,
   "metadata": {
    "collapsed": false
   },
   "outputs": [
    {
     "data": {
      "text/plain": [
       "2"
      ]
     },
     "execution_count": 11,
     "metadata": {},
     "output_type": "execute_result"
    }
   ],
   "source": [
    "tf.shape(a).eval()[0]"
   ]
  },
  {
   "cell_type": "code",
   "execution_count": 66,
   "metadata": {
    "collapsed": false
   },
   "outputs": [
    {
     "name": "stdout",
     "output_type": "stream",
     "text": [
      "[[-0.04836457  0.11699509 -0.10365508]\n",
      " [-0.11315618 -0.14960578 -0.13785519]]\n",
      "[[-0.04836457  0.11699509 -0.10365508 -0.04836457  0.11699509 -0.10365508\n",
      "  -0.04836457  0.11699509 -0.10365508]\n",
      " [-0.11315618 -0.14960578 -0.13785519 -0.11315618 -0.14960578 -0.13785519\n",
      "  -0.11315618 -0.14960578 -0.13785519]\n",
      " [-0.04836457  0.11699509 -0.10365508 -0.04836457  0.11699509 -0.10365508\n",
      "  -0.04836457  0.11699509 -0.10365508]\n",
      " [-0.11315618 -0.14960578 -0.13785519 -0.11315618 -0.14960578 -0.13785519\n",
      "  -0.11315618 -0.14960578 -0.13785519]\n",
      " [-0.04836457  0.11699509 -0.10365508 -0.04836457  0.11699509 -0.10365508\n",
      "  -0.04836457  0.11699509 -0.10365508]\n",
      " [-0.11315618 -0.14960578 -0.13785519 -0.11315618 -0.14960578 -0.13785519\n",
      "  -0.11315618 -0.14960578 -0.13785519]\n",
      " [-0.04836457  0.11699509 -0.10365508 -0.04836457  0.11699509 -0.10365508\n",
      "  -0.04836457  0.11699509 -0.10365508]\n",
      " [-0.11315618 -0.14960578 -0.13785519 -0.11315618 -0.14960578 -0.13785519\n",
      "  -0.11315618 -0.14960578 -0.13785519]\n",
      " [-0.04836457  0.11699509 -0.10365508 -0.04836457  0.11699509 -0.10365508\n",
      "  -0.04836457  0.11699509 -0.10365508]\n",
      " [-0.11315618 -0.14960578 -0.13785519 -0.11315618 -0.14960578 -0.13785519\n",
      "  -0.11315618 -0.14960578 -0.13785519]\n",
      " [-0.04836457  0.11699509 -0.10365508 -0.04836457  0.11699509 -0.10365508\n",
      "  -0.04836457  0.11699509 -0.10365508]\n",
      " [-0.11315618 -0.14960578 -0.13785519 -0.11315618 -0.14960578 -0.13785519\n",
      "  -0.11315618 -0.14960578 -0.13785519]]\n",
      "[[[-0.04836457  0.11699509 -0.10365508]\n",
      "  [-0.11315618 -0.14960578 -0.13785519]]\n",
      "\n",
      " [[-0.04836457  0.11699509 -0.10365508]\n",
      "  [-0.11315618 -0.14960578 -0.13785519]]]\n",
      "[[ 0.04836457 -0.11699509  0.10365508]\n",
      " [ 0.11315618  0.14960578  0.13785519]]\n",
      "[[ 0.04836457 -0.11699509  0.10365508  0.04836457 -0.11699509  0.10365508\n",
      "   0.04836457 -0.11699509  0.10365508]\n",
      " [ 0.11315618  0.14960578  0.13785519  0.11315618  0.14960578  0.13785519\n",
      "   0.11315618  0.14960578  0.13785519]\n",
      " [ 0.04836457 -0.11699509  0.10365508  0.04836457 -0.11699509  0.10365508\n",
      "   0.04836457 -0.11699509  0.10365508]\n",
      " [ 0.11315618  0.14960578  0.13785519  0.11315618  0.14960578  0.13785519\n",
      "   0.11315618  0.14960578  0.13785519]\n",
      " [ 0.04836457 -0.11699509  0.10365508  0.04836457 -0.11699509  0.10365508\n",
      "   0.04836457 -0.11699509  0.10365508]\n",
      " [ 0.11315618  0.14960578  0.13785519  0.11315618  0.14960578  0.13785519\n",
      "   0.11315618  0.14960578  0.13785519]\n",
      " [ 0.04836457 -0.11699509  0.10365508  0.04836457 -0.11699509  0.10365508\n",
      "   0.04836457 -0.11699509  0.10365508]\n",
      " [ 0.11315618  0.14960578  0.13785519  0.11315618  0.14960578  0.13785519\n",
      "   0.11315618  0.14960578  0.13785519]\n",
      " [ 0.04836457 -0.11699509  0.10365508  0.04836457 -0.11699509  0.10365508\n",
      "   0.04836457 -0.11699509  0.10365508]\n",
      " [ 0.11315618  0.14960578  0.13785519  0.11315618  0.14960578  0.13785519\n",
      "   0.11315618  0.14960578  0.13785519]\n",
      " [ 0.04836457 -0.11699509  0.10365508  0.04836457 -0.11699509  0.10365508\n",
      "   0.04836457 -0.11699509  0.10365508]\n",
      " [ 0.11315618  0.14960578  0.13785519  0.11315618  0.14960578  0.13785519\n",
      "   0.11315618  0.14960578  0.13785519]]\n",
      "[[ 0.04836457 -0.11699509  0.10365508]\n",
      " [ 0.11315618  0.14960578  0.13785519]]\n",
      "[[ 0.04836457  0.11315618]\n",
      " [-0.11699509  0.14960578]\n",
      " [ 0.10365508  0.13785519]]\n"
     ]
    }
   ],
   "source": [
    "with sess:\n",
    "    sess.run(tf.initialize_all_variables())\n",
    "    print a.eval()\n",
    "    print tf.tile(a, [6, 3]).eval()\n",
    "    print tf.tile(tf.expand_dims(a, 0), [2, 1, 1]).eval()\n",
    "    a = a * b\n",
    "    print a.eval()\n",
    "    print tf.tile(a, [6, 3]).eval()\n",
    "    print tf.transpose(a, [0, 1]).eval()\n",
    "    print tf.transpose(a, [1, 0]).eval()"
   ]
  },
  {
   "cell_type": "code",
   "execution_count": 13,
   "metadata": {
    "collapsed": false
   },
   "outputs": [
    {
     "name": "stdout",
     "output_type": "stream",
     "text": [
      "[ 2.11307557  2.01307557]\n",
      "[ 2.11307557  2.01307557]\n"
     ]
    }
   ],
   "source": [
    "t1 = np.array([[0.1, 0.2, 0.3, 0.4, 0., 0., 0., 0., 0., 0.], [0.1, 0.2, 0.3, 0.4, 0., 0., 0., 0., 0., 0.]])\n",
    "t2 = np.array([[0., 0., 1, 0., 0., 0., 0., 0., 0., 0.], [0., 0., 0., 1, 0., 0., 0., 0., 0., 0.]])\n",
    "print tf.nn.softmax_cross_entropy_with_logits(t1, t2).eval()\n",
    "print tf.nn.softmax_cross_entropy_with_logits(t1, t2).eval()\n"
   ]
  },
  {
   "cell_type": "code",
   "execution_count": 22,
   "metadata": {
    "collapsed": false
   },
   "outputs": [
    {
     "data": {
      "text/plain": [
       "-1.2039728"
      ]
     },
     "execution_count": 22,
     "metadata": {},
     "output_type": "execute_result"
    }
   ],
   "source": [
    "tf.log(0.3).eval()"
   ]
  },
  {
   "cell_type": "code",
   "execution_count": 9,
   "metadata": {
    "collapsed": false
   },
   "outputs": [
    {
     "name": "stdout",
     "output_type": "stream",
     "text": [
      "[[[1]\n",
      "  [2]\n",
      "  [3]\n",
      "  [4]\n",
      "  [5]]\n",
      "\n",
      " [[1]\n",
      "  [2]\n",
      "  [3]\n",
      "  [4]\n",
      "  [5]]\n",
      "\n",
      " [[1]\n",
      "  [2]\n",
      "  [3]\n",
      "  [4]\n",
      "  [5]]\n",
      "\n",
      " [[1]\n",
      "  [2]\n",
      "  [3]\n",
      "  [4]\n",
      "  [5]]\n",
      "\n",
      " [[1]\n",
      "  [2]\n",
      "  [3]\n",
      "  [4]\n",
      "  [5]]\n",
      "\n",
      " [[1]\n",
      "  [2]\n",
      "  [3]\n",
      "  [4]\n",
      "  [5]]\n",
      "\n",
      " [[1]\n",
      "  [2]\n",
      "  [3]\n",
      "  [4]\n",
      "  [5]]\n",
      "\n",
      " [[1]\n",
      "  [2]\n",
      "  [3]\n",
      "  [4]\n",
      "  [5]]\n",
      "\n",
      " [[1]\n",
      "  [2]\n",
      "  [3]\n",
      "  [4]\n",
      "  [5]]\n",
      "\n",
      " [[1]\n",
      "  [2]\n",
      "  [3]\n",
      "  [4]\n",
      "  [5]]]\n",
      "[[1]\n",
      " [2]\n",
      " [3]\n",
      " [4]\n",
      " [5]\n",
      " [1]\n",
      " [2]\n",
      " [3]\n",
      " [4]\n",
      " [5]\n",
      " [1]\n",
      " [2]\n",
      " [3]\n",
      " [4]\n",
      " [5]\n",
      " [1]\n",
      " [2]\n",
      " [3]\n",
      " [4]\n",
      " [5]\n",
      " [1]\n",
      " [2]\n",
      " [3]\n",
      " [4]\n",
      " [5]\n",
      " [1]\n",
      " [2]\n",
      " [3]\n",
      " [4]\n",
      " [5]\n",
      " [1]\n",
      " [2]\n",
      " [3]\n",
      " [4]\n",
      " [5]\n",
      " [1]\n",
      " [2]\n",
      " [3]\n",
      " [4]\n",
      " [5]\n",
      " [1]\n",
      " [2]\n",
      " [3]\n",
      " [4]\n",
      " [5]\n",
      " [1]\n",
      " [2]\n",
      " [3]\n",
      " [4]\n",
      " [5]]\n"
     ]
    }
   ],
   "source": [
    "t3 = tf.tile(tf.expand_dims(np.array([[1], [2], [3], [4], [5]]), 0), [10, 1, 1])\n",
    "print t3.eval()\n",
    "t4 = tf.reshape(t3, [-1, 1])\n",
    "print t4.eval()\n"
   ]
  },
  {
   "cell_type": "code",
   "execution_count": 12,
   "metadata": {
    "collapsed": false
   },
   "outputs": [
    {
     "name": "stdout",
     "output_type": "stream",
     "text": [
      "976630367\n"
     ]
    }
   ],
   "source": [
    "tsh = tf.shape(t3)\n",
    "tf.shape(t3).eval()\n",
    "print tsh[-1].eval()"
   ]
  },
  {
   "cell_type": "code",
   "execution_count": null,
   "metadata": {
    "collapsed": true
   },
   "outputs": [],
   "source": []
  }
 ],
 "metadata": {
  "kernelspec": {
   "display_name": "Python 2",
   "language": "python",
   "name": "python2"
  },
  "language_info": {
   "codemirror_mode": {
    "name": "ipython",
    "version": 2
   },
   "file_extension": ".py",
   "mimetype": "text/x-python",
   "name": "python",
   "nbconvert_exporter": "python",
   "pygments_lexer": "ipython2",
   "version": "2.7.6"
  }
 },
 "nbformat": 4,
 "nbformat_minor": 0
}
